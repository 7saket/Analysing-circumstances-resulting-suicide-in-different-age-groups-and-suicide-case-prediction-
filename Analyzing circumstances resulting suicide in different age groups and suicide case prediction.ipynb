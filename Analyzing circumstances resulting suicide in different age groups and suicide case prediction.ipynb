{
 "cells": [
  {
   "cell_type": "markdown",
   "metadata": {
    "colab_type": "text",
    "id": "8nSuTBKsJraZ"
   },
   "source": [
    "# **Data science project analyzing various circumstances leading to suicide in males and females across different age groups and estimating suicide cases:**"
   ]
  },
  {
   "cell_type": "markdown",
   "metadata": {
    "colab_type": "text",
    "id": "UsdhTvYGJrab"
   },
   "source": [
    "\n",
    "\n"
   ]
  },
  {
   "cell_type": "code",
   "execution_count": 1,
   "metadata": {
    "colab": {
     "base_uri": "https://localhost:8080/",
     "height": 72
    },
    "colab_type": "code",
    "id": "rQta1dx2Jrad",
    "outputId": "2d8108d0-7c3e-4367-f5f1-d1e5916312e0"
   },
   "outputs": [],
   "source": [
    "#importing required libraries\n",
    "\n",
    "import pandas as pd\n",
    "import numpy as np\n",
    "from pandas.plotting import scatter_matrix\n",
    "import matplotlib.pyplot as plt\n",
    "import seaborn as sns\n",
    "import sklearn"
   ]
  },
  {
   "cell_type": "markdown",
   "metadata": {
    "colab_type": "text",
    "id": "bDmOaIAyJrak"
   },
   "source": [
    "## **1. Loading Data:**\n"
   ]
  },
  {
   "cell_type": "code",
   "execution_count": 2,
   "metadata": {
    "colab": {
     "base_uri": "https://localhost:8080/",
     "height": 194
    },
    "colab_type": "code",
    "id": "vO-gPhOxJral",
    "outputId": "321670cf-d649-4a9c-fe2c-af58f5227989"
   },
   "outputs": [
    {
     "data": {
      "text/html": [
       "<div>\n",
       "<style scoped>\n",
       "    .dataframe tbody tr th:only-of-type {\n",
       "        vertical-align: middle;\n",
       "    }\n",
       "\n",
       "    .dataframe tbody tr th {\n",
       "        vertical-align: top;\n",
       "    }\n",
       "\n",
       "    .dataframe thead th {\n",
       "        text-align: right;\n",
       "    }\n",
       "</style>\n",
       "<table border=\"1\" class=\"dataframe\">\n",
       "  <thead>\n",
       "    <tr style=\"text-align: right;\">\n",
       "      <th></th>\n",
       "      <th>country</th>\n",
       "      <th>year</th>\n",
       "      <th>sex</th>\n",
       "      <th>age</th>\n",
       "      <th>suicides_no</th>\n",
       "      <th>population</th>\n",
       "      <th>suicides/100k pop</th>\n",
       "      <th>country-year</th>\n",
       "      <th>HDI for year</th>\n",
       "      <th>gdp_for_year ($)</th>\n",
       "      <th>gdp_per_capita ($)</th>\n",
       "      <th>generation</th>\n",
       "    </tr>\n",
       "  </thead>\n",
       "  <tbody>\n",
       "    <tr>\n",
       "      <th>0</th>\n",
       "      <td>Albania</td>\n",
       "      <td>1987</td>\n",
       "      <td>male</td>\n",
       "      <td>15-24 years</td>\n",
       "      <td>21</td>\n",
       "      <td>312900</td>\n",
       "      <td>6.71</td>\n",
       "      <td>Albania1987</td>\n",
       "      <td>NaN</td>\n",
       "      <td>2,156,624,900</td>\n",
       "      <td>796</td>\n",
       "      <td>Generation X</td>\n",
       "    </tr>\n",
       "    <tr>\n",
       "      <th>1</th>\n",
       "      <td>Albania</td>\n",
       "      <td>1987</td>\n",
       "      <td>male</td>\n",
       "      <td>35-54 years</td>\n",
       "      <td>16</td>\n",
       "      <td>308000</td>\n",
       "      <td>5.19</td>\n",
       "      <td>Albania1987</td>\n",
       "      <td>NaN</td>\n",
       "      <td>2,156,624,900</td>\n",
       "      <td>796</td>\n",
       "      <td>Silent</td>\n",
       "    </tr>\n",
       "    <tr>\n",
       "      <th>2</th>\n",
       "      <td>Albania</td>\n",
       "      <td>1987</td>\n",
       "      <td>female</td>\n",
       "      <td>15-24 years</td>\n",
       "      <td>14</td>\n",
       "      <td>289700</td>\n",
       "      <td>4.83</td>\n",
       "      <td>Albania1987</td>\n",
       "      <td>NaN</td>\n",
       "      <td>2,156,624,900</td>\n",
       "      <td>796</td>\n",
       "      <td>Generation X</td>\n",
       "    </tr>\n",
       "    <tr>\n",
       "      <th>3</th>\n",
       "      <td>Albania</td>\n",
       "      <td>1987</td>\n",
       "      <td>male</td>\n",
       "      <td>75+ years</td>\n",
       "      <td>1</td>\n",
       "      <td>21800</td>\n",
       "      <td>4.59</td>\n",
       "      <td>Albania1987</td>\n",
       "      <td>NaN</td>\n",
       "      <td>2,156,624,900</td>\n",
       "      <td>796</td>\n",
       "      <td>G.I. Generation</td>\n",
       "    </tr>\n",
       "    <tr>\n",
       "      <th>4</th>\n",
       "      <td>Albania</td>\n",
       "      <td>1987</td>\n",
       "      <td>male</td>\n",
       "      <td>25-34 years</td>\n",
       "      <td>9</td>\n",
       "      <td>274300</td>\n",
       "      <td>3.28</td>\n",
       "      <td>Albania1987</td>\n",
       "      <td>NaN</td>\n",
       "      <td>2,156,624,900</td>\n",
       "      <td>796</td>\n",
       "      <td>Boomers</td>\n",
       "    </tr>\n",
       "  </tbody>\n",
       "</table>\n",
       "</div>"
      ],
      "text/plain": [
       "   country  year     sex          age  suicides_no  population  \\\n",
       "0  Albania  1987    male  15-24 years           21      312900   \n",
       "1  Albania  1987    male  35-54 years           16      308000   \n",
       "2  Albania  1987  female  15-24 years           14      289700   \n",
       "3  Albania  1987    male    75+ years            1       21800   \n",
       "4  Albania  1987    male  25-34 years            9      274300   \n",
       "\n",
       "   suicides/100k pop country-year  HDI for year  gdp_for_year ($)   \\\n",
       "0               6.71  Albania1987           NaN      2,156,624,900   \n",
       "1               5.19  Albania1987           NaN      2,156,624,900   \n",
       "2               4.83  Albania1987           NaN      2,156,624,900   \n",
       "3               4.59  Albania1987           NaN      2,156,624,900   \n",
       "4               3.28  Albania1987           NaN      2,156,624,900   \n",
       "\n",
       "   gdp_per_capita ($)       generation  \n",
       "0                 796     Generation X  \n",
       "1                 796           Silent  \n",
       "2                 796     Generation X  \n",
       "3                 796  G.I. Generation  \n",
       "4                 796          Boomers  "
      ]
     },
     "execution_count": 2,
     "metadata": {},
     "output_type": "execute_result"
    }
   ],
   "source": [
    "#Loading data into dataframe\n",
    "\n",
    "data = pd.read_csv(r'C:\\Users\\Admin\\Desktop\\Suicide-Rate-Prediction-with-Machine-Learning\\\\Data.csv')\n",
    "data.head()"
   ]
  },
  {
   "cell_type": "markdown",
   "metadata": {
    "colab_type": "text",
    "id": "a97t_Zq8Jras"
   },
   "source": [
    "## **2. Familiarizing with Data:**\n"
   ]
  },
  {
   "cell_type": "code",
   "execution_count": 3,
   "metadata": {
    "colab": {
     "base_uri": "https://localhost:8080/",
     "height": 35
    },
    "colab_type": "code",
    "id": "WB_voVuuJras",
    "outputId": "4d3902ca-c530-4b3f-e1ac-e4831745bdce"
   },
   "outputs": [
    {
     "data": {
      "text/plain": [
       "(27820, 12)"
      ]
     },
     "execution_count": 3,
     "metadata": {},
     "output_type": "execute_result"
    }
   ],
   "source": [
    "#Shape of dataframe\n",
    "\n",
    "data.shape"
   ]
  },
  {
   "cell_type": "code",
   "execution_count": 4,
   "metadata": {
    "colab": {
     "base_uri": "https://localhost:8080/",
     "height": 88
    },
    "colab_type": "code",
    "id": "6eHW6CqwJrax",
    "outputId": "ab2d08cf-6d97-47b5-ebc6-63c83a976b07",
    "scrolled": true
   },
   "outputs": [
    {
     "data": {
      "text/plain": [
       "Index(['country', 'year', 'sex', 'age', 'suicides_no', 'population',\n",
       "       'suicides/100k pop', 'country-year', 'HDI for year',\n",
       "       ' gdp_for_year ($) ', 'gdp_per_capita ($)', 'generation'],\n",
       "      dtype='object')"
      ]
     },
     "execution_count": 4,
     "metadata": {},
     "output_type": "execute_result"
    }
   ],
   "source": [
    "#Listing the features of the dataset\n",
    "\n",
    "data.columns"
   ]
  },
  {
   "cell_type": "code",
   "execution_count": 5,
   "metadata": {
    "colab": {
     "base_uri": "https://localhost:8080/",
     "height": 88
    },
    "colab_type": "code",
    "id": "Tcu07Vw-s_Ur",
    "outputId": "368a53b9-2215-48f9-ba7b-a3e4e1b9e0af"
   },
   "outputs": [
    {
     "data": {
      "text/plain": [
       "Index(['country', 'year', 'gender', 'age_group', 'suicide_count', 'population',\n",
       "       'suicide_rate', 'country-year', 'HDI for year', 'gdp_for_year',\n",
       "       'gdp_per_capita', 'generation'],\n",
       "      dtype='object')"
      ]
     },
     "execution_count": 5,
     "metadata": {},
     "output_type": "execute_result"
    }
   ],
   "source": [
    "#Renaming the columns names for convinience\n",
    "\n",
    "data.columns = ['country', 'year', 'gender', 'age_group', 'suicide_count', 'population', 'suicide_rate', 'country-year', 'HDI for year',\n",
    "                'gdp_for_year', 'gdp_per_capita', 'generation']\n",
    "data.columns"
   ]
  },
  {
   "cell_type": "code",
   "execution_count": 6,
   "metadata": {
    "colab": {
     "base_uri": "https://localhost:8080/",
     "height": 88
    },
    "colab_type": "code",
    "id": "J9NJm_cMJra1",
    "outputId": "edc23f89-038e-47e0-f2df-bd1b0f10dd13"
   },
   "outputs": [
    {
     "data": {
      "text/plain": [
       "Index(['country', 'year', 'gender', 'age_group', 'suicide_count', 'population',\n",
       "       'suicide_rate', 'country-year', 'HDI for year', 'gdp_for_year',\n",
       "       'gdp_per_capita', 'generation'],\n",
       "      dtype='object')"
      ]
     },
     "execution_count": 6,
     "metadata": {},
     "output_type": "execute_result"
    }
   ],
   "source": [
    "#Renaming the columns names for convinience\n",
    "\n",
    "data.columns = ['country', 'year', 'gender', 'age_group', 'suicide_count', \n",
    "                'population', 'suicide_rate', 'country-year', 'HDI for year',\n",
    "                'gdp_for_year', 'gdp_per_capita', 'generation']\n",
    "data.columns"
   ]
  },
  {
   "cell_type": "code",
   "execution_count": 14,
   "metadata": {
    "colab": {
     "base_uri": "https://localhost:8080/",
     "height": 355
    },
    "colab_type": "code",
    "id": "UxqRUpRBJra5",
    "outputId": "41514286-88ef-4224-b5d2-e27526ded050"
   },
   "outputs": [
    {
     "name": "stdout",
     "output_type": "stream",
     "text": [
      "<class 'pandas.core.frame.DataFrame'>\n",
      "RangeIndex: 27820 entries, 0 to 27819\n",
      "Data columns (total 12 columns):\n",
      " #   Column          Non-Null Count  Dtype  \n",
      "---  ------          --------------  -----  \n",
      " 0   country         27820 non-null  object \n",
      " 1   year            27820 non-null  int64  \n",
      " 2   gender          27820 non-null  object \n",
      " 3   age_group       27820 non-null  object \n",
      " 4   suicide_count   27820 non-null  int64  \n",
      " 5   population      27820 non-null  int64  \n",
      " 6   suicide_rate    27820 non-null  float64\n",
      " 7   country-year    27820 non-null  object \n",
      " 8   HDI for year    8364 non-null   float64\n",
      " 9   gdp_for_year    27820 non-null  object \n",
      " 10  gdp_per_capita  27820 non-null  int64  \n",
      " 11  generation      27820 non-null  object \n",
      "dtypes: float64(2), int64(4), object(6)\n",
      "memory usage: 2.5+ MB\n"
     ]
    }
   ],
   "source": [
    "#Information about the dataset\n",
    "\n",
    "data.info()"
   ]
  },
  {
   "cell_type": "code",
   "execution_count": 15,
   "metadata": {
    "colab": {
     "base_uri": "https://localhost:8080/",
     "height": 141
    },
    "colab_type": "code",
    "id": "5pVv0ydpJra-",
    "outputId": "e395f777-c883-4cc5-cf65-1306ebf63220",
    "scrolled": false
   },
   "outputs": [
    {
     "data": {
      "text/plain": [
       "75+ years      4642\n",
       "55-74 years    4642\n",
       "25-34 years    4642\n",
       "35-54 years    4642\n",
       "15-24 years    4642\n",
       "5-14 years     4610\n",
       "Name: age_group, dtype: int64"
      ]
     },
     "execution_count": 15,
     "metadata": {},
     "output_type": "execute_result"
    }
   ],
   "source": [
    "data.age_group.value_counts()"
   ]
  },
  {
   "cell_type": "code",
   "execution_count": 16,
   "metadata": {
    "colab": {
     "base_uri": "https://localhost:8080/",
     "height": 141
    },
    "colab_type": "code",
    "id": "Pm4TWFvMJrbC",
    "outputId": "aab2682c-dcfa-4b2f-d6b2-4247f52de843",
    "scrolled": true
   },
   "outputs": [
    {
     "data": {
      "text/plain": [
       "Generation X       6408\n",
       "Silent             6364\n",
       "Millenials         5844\n",
       "Boomers            4990\n",
       "G.I. Generation    2744\n",
       "Generation Z       1470\n",
       "Name: generation, dtype: int64"
      ]
     },
     "execution_count": 16,
     "metadata": {},
     "output_type": "execute_result"
    }
   ],
   "source": [
    "data.generation.value_counts()"
   ]
  },
  {
   "cell_type": "markdown",
   "metadata": {
    "colab_type": "text",
    "id": "GMZie84BJrbG"
   },
   "source": [
    "#### No. of countries avaialble in the dataset:"
   ]
  },
  {
   "cell_type": "code",
   "execution_count": 17,
   "metadata": {
    "colab": {
     "base_uri": "https://localhost:8080/",
     "height": 426
    },
    "colab_type": "code",
    "id": "oyXsHMrzJrbH",
    "outputId": "2d1ec73e-aabb-455b-81ec-e607b2e7728f"
   },
   "outputs": [
    {
     "name": "stdout",
     "output_type": "stream",
     "text": [
      "Number of countries: 101\n"
     ]
    },
    {
     "data": {
      "text/plain": [
       "array(['Albania', 'Antigua and Barbuda', 'Argentina', 'Armenia', 'Aruba',\n",
       "       'Australia', 'Austria', 'Azerbaijan', 'Bahamas', 'Bahrain',\n",
       "       'Barbados', 'Belarus', 'Belgium', 'Belize',\n",
       "       'Bosnia and Herzegovina', 'Brazil', 'Bulgaria', 'Cabo Verde',\n",
       "       'Canada', 'Chile', 'Colombia', 'Costa Rica', 'Croatia', 'Cuba',\n",
       "       'Cyprus', 'Czech Republic', 'Denmark', 'Dominica', 'Ecuador',\n",
       "       'El Salvador', 'Estonia', 'Fiji', 'Finland', 'France', 'Georgia',\n",
       "       'Germany', 'Greece', 'Grenada', 'Guatemala', 'Guyana', 'Hungary',\n",
       "       'Iceland', 'Ireland', 'Israel', 'Italy', 'Jamaica', 'Japan',\n",
       "       'Kazakhstan', 'Kiribati', 'Kuwait', 'Kyrgyzstan', 'Latvia',\n",
       "       'Lithuania', 'Luxembourg', 'Macau', 'Maldives', 'Malta',\n",
       "       'Mauritius', 'Mexico', 'Mongolia', 'Montenegro', 'Netherlands',\n",
       "       'New Zealand', 'Nicaragua', 'Norway', 'Oman', 'Panama', 'Paraguay',\n",
       "       'Philippines', 'Poland', 'Portugal', 'Puerto Rico', 'Qatar',\n",
       "       'Republic of Korea', 'Romania', 'Russian Federation',\n",
       "       'Saint Kitts and Nevis', 'Saint Lucia',\n",
       "       'Saint Vincent and Grenadines', 'San Marino', 'Serbia',\n",
       "       'Seychelles', 'Singapore', 'Slovakia', 'Slovenia', 'South Africa',\n",
       "       'Spain', 'Sri Lanka', 'Suriname', 'Sweden', 'Switzerland',\n",
       "       'Thailand', 'Trinidad and Tobago', 'Turkey', 'Turkmenistan',\n",
       "       'Ukraine', 'United Arab Emirates', 'United Kingdom',\n",
       "       'United States', 'Uruguay', 'Uzbekistan'], dtype=object)"
      ]
     },
     "execution_count": 17,
     "metadata": {},
     "output_type": "execute_result"
    }
   ],
   "source": [
    "#Listing countries\n",
    "\n",
    "country = data.country.unique()\n",
    "print(\"Number of countries:\", len(country))\n",
    "country"
   ]
  },
  {
   "cell_type": "markdown",
   "metadata": {
    "colab_type": "text",
    "id": "aTAJqTWeJrbN"
   },
   "source": [
    "## **3. Visualizing the data:**"
   ]
  },
  {
   "cell_type": "code",
   "execution_count": 18,
   "metadata": {
    "colab": {
     "base_uri": "https://localhost:8080/",
     "height": 787
    },
    "colab_type": "code",
    "id": "oPy-YPrSJrbO",
    "outputId": "59c7bebb-dfe7-462b-a5b5-ebac61591d8a"
   },
   "outputs": [
    {
     "data": {
      "text/plain": [
       "array([[<AxesSubplot:title={'center':'year'}>,\n",
       "        <AxesSubplot:title={'center':'suicide_count'}>],\n",
       "       [<AxesSubplot:title={'center':'population'}>,\n",
       "        <AxesSubplot:title={'center':'suicide_rate'}>],\n",
       "       [<AxesSubplot:title={'center':'HDI for year'}>,\n",
       "        <AxesSubplot:title={'center':'gdp_per_capita'}>]], dtype=object)"
      ]
     },
     "execution_count": 18,
     "metadata": {},
     "output_type": "execute_result"
    },
    {
     "data": {
      "image/png": "[encoded data removed]",
      "text/plain": [
       "<Figure size 1080x792 with 6 Axes>"
      ]
     },
     "metadata": {
      "needs_background": "light"
     },
     "output_type": "display_data"
    }
   ],
   "source": [
    "data.hist(bins = 50,figsize = (15,11))"
   ]
  },
  {
   "cell_type": "code",
   "execution_count": 20,
   "metadata": {
    "colab": {
     "base_uri": "https://localhost:8080/",
     "height": 390
    },
    "colab_type": "code",
    "id": "NZfAZZlJJrbS",
    "outputId": "74afa27d-0c78-4d3f-dc9c-e2f6e5983ca3",
    "scrolled": false
   },
   "outputs": [
    {
     "data": {
      "image/png": "[encoded data removed]",
      "text/plain": [
       "<Figure size 504x360 with 2 Axes>"
      ]
     },
     "metadata": {
      "needs_background": "light"
     },
     "output_type": "display_data"
    }
   ],
   "source": [
    "#Correlation heatmap\n",
    "\n",
    "plt.figure(figsize=(7,5))\n",
    "sns.heatmap(data.corr(), annot=True, cmap='Oranges')\n",
    "plt.show()"
   ]
  },
  {
   "cell_type": "code",
   "execution_count": 21,
   "metadata": {
    "colab": {
     "base_uri": "https://localhost:8080/",
     "height": 242
    },
    "colab_type": "code",
    "id": "wNUn9cLsJrbX",
    "outputId": "b443ad2b-f001-4420-b667-1fe02f801f7e"
   },
   "outputs": [
    {
     "name": "stderr",
     "output_type": "stream",
     "text": [
      "C:\\Users\\Admin\\anaconda3\\lib\\site-packages\\seaborn\\_decorators.py:36: FutureWarning: Pass the following variables as keyword args: x, y. From version 0.12, the only valid positional argument will be `data`, and passing other arguments without an explicit keyword will result in an error or misinterpretation.\n",
      "  warnings.warn(\n"
     ]
    },
    {
     "data": {
      "image/png": "[encoded data removed]",
      "text/plain": [
       "<Figure size 720x216 with 1 Axes>"
      ]
     },
     "metadata": {
      "needs_background": "light"
     },
     "output_type": "display_data"
    }
   ],
   "source": [
    "#Gender and suicide count bar plot\n",
    "\n",
    "plt.figure(figsize=(10,3))\n",
    "sns.barplot(data.suicide_count,data.gender)\n",
    "plt.title('Gender - Suicide Count Bar Plot')\n",
    "plt.show()"
   ]
  },
  {
   "cell_type": "markdown",
   "metadata": {
    "colab_type": "text",
    "id": "tYP1xC2gJrbc"
   },
   "source": [
    "**The above bar plot shows that the suicide cases are more in male population.**\n",
    "\n",
    "But lets see if this pattern exists in all the age groups and also generations. "
   ]
  },
  {
   "cell_type": "code",
   "execution_count": 23,
   "metadata": {
    "colab": {
     "base_uri": "https://localhost:8080/",
     "height": 241
    },
    "colab_type": "code",
    "id": "HafmYUfCJrbd",
    "outputId": "389c4ad5-1a5f-43f6-9ebc-0a939cc5dace"
   },
   "outputs": [
    {
     "data": {
      "image/png": "[encoded data removed]",
      "text/plain": [
       "<Figure size 720x216 with 1 Axes>"
      ]
     },
     "metadata": {
      "needs_background": "light"
     },
     "output_type": "display_data"
    }
   ],
   "source": [
    "#Age Group - Count Bar Plot Grouped by Gender\n",
    "\n",
    "plt.figure(figsize=(10,3))\n",
    "sns.barplot(x = \"age_group\", y = \"suicide_count\", hue = \"gender\", data = data)\n",
    "plt.title(\"Age Group - Count Bar Plot Grouped by Gender\")\n",
    "plt.show()"
   ]
  },
  {
   "cell_type": "code",
   "execution_count": 24,
   "metadata": {
    "colab": {
     "base_uri": "https://localhost:8080/",
     "height": 350
    },
    "colab_type": "code",
    "id": "s_0F0yBIJrbi",
    "outputId": "7b703490-6af6-4472-edc4-accbb057eb0b"
   },
   "outputs": [
    {
     "data": {
      "image/png": "[encoded data removed]",
      "text/plain": [
       "<Figure size 648x360 with 1 Axes>"
      ]
     },
     "metadata": {
      "needs_background": "light"
     },
     "output_type": "display_data"
    }
   ],
   "source": [
    "#Generation - Count Bar Plot grouped by Gender\n",
    "\n",
    "plt.figure(figsize=(9,5))\n",
    "sns.barplot(x = \"generation\", y = \"suicide_count\", hue = \"gender\", data = data)\n",
    "plt.title('Generation - Count Bar Plot grouped by Gender')\n",
    "plt.show()"
   ]
  },
  {
   "cell_type": "markdown",
   "metadata": {
    "colab_type": "text",
    "id": "TnfTjoP7Jrbn"
   },
   "source": [
    "**From the above two bar plots, it is clear that men commit suicide considerably more than women irrespective of age group and generation they belong to.**\n",
    "\n",
    "Now, lets check the suicide cases based on the age group."
   ]
  },
  {
   "cell_type": "code",
   "execution_count": 25,
   "metadata": {
    "colab": {
     "base_uri": "https://localhost:8080/",
     "height": 350
    },
    "colab_type": "code",
    "id": "tIz59nXA2bpP",
    "outputId": "b32acc51-8108-4c8b-d9e4-05332f2359b7"
   },
   "outputs": [
    {
     "data": {
      "image/png": "[encoded data removed]",
      "text/plain": [
       "<Figure size 648x360 with 1 Axes>"
      ]
     },
     "metadata": {
      "needs_background": "light"
     },
     "output_type": "display_data"
    }
   ],
   "source": [
    "# Age Group and Suicide count bar plot\n",
    "\n",
    "plt.figure(figsize=(9,5))\n",
    "sns.barplot(x=data['age_group'], y=data['suicide_count'])\n",
    "plt.xlabel('Age Group')\n",
    "plt.ylabel('Suicide Count')\n",
    "plt.title('Age Group - Suicide Count Bar Plot')\n",
    "plt.show()"
   ]
  },
  {
   "cell_type": "markdown",
   "metadata": {
    "colab_type": "text",
    "id": "TL_2puZK3vYc"
   },
   "source": [
    "The above boxplot shows that the suicide cases are more in the age group of 35-54 years followed by 55- 74 years. The surprising part is that the suicide cases in 5-14 year age group even though they are very less, mostly in tens."
   ]
  },
  {
   "cell_type": "code",
   "execution_count": 26,
   "metadata": {
    "colab": {
     "base_uri": "https://localhost:8080/",
     "height": 350
    },
    "colab_type": "code",
    "id": "Yzfa-PlgJrbo",
    "outputId": "b4d2d6d3-dca1-4801-8201-24f5b1f40c99",
    "scrolled": true
   },
   "outputs": [
    {
     "data": {
      "image/png": "[encoded data removed]",
      "text/plain": [
       "<Figure size 648x360 with 1 Axes>"
      ]
     },
     "metadata": {
      "needs_background": "light"
     },
     "output_type": "display_data"
    }
   ],
   "source": [
    "#Generation & Suicide Count Bar Plot\n",
    "\n",
    "plt.figure(figsize=(9,5))\n",
    "sns.barplot(x=data['generation'], y=data['suicide_count'])\n",
    "plt.xlabel('Generation')\n",
    "plt.ylabel('Suicide Count')\n",
    "plt.title('Generation - Suicide Count Bar Plot')\n",
    "plt.show()"
   ]
  },
  {
   "cell_type": "markdown",
   "metadata": {
    "colab_type": "text",
    "id": "OHiuDaNLJrbt"
   },
   "source": [
    "* The above boxplot shows that the suicide cases are more in the boomers, silent and X generations. These generations are made up of people born until 1976 based on the details provided.\n",
    "* On further observation, these generations are the ones were most of them are in the age group where most suicides occur."
   ]
  },
  {
   "cell_type": "code",
   "execution_count": 27,
   "metadata": {
    "colab": {
     "base_uri": "https://localhost:8080/",
     "height": 459
    },
    "colab_type": "code",
    "id": "u_7OxeeaJrbv",
    "outputId": "3b783ab7-ed3f-48db-c9d5-deeeb458029d",
    "scrolled": false
   },
   "outputs": [
    {
     "data": {
      "image/png": "[encoded data removed]",
      "text/plain": [
       "<Figure size 504x504 with 1 Axes>"
      ]
     },
     "metadata": {
      "needs_background": "light"
     },
     "output_type": "display_data"
    }
   ],
   "source": [
    "#Gender & Sucide Count grouped by Age Group bar plot\n",
    "\n",
    "plt.figure(figsize=(7,7))\n",
    "sns.barplot(y=\"gender\", x=\"suicide_count\", hue=\"age_group\", data=data)\n",
    "plt.title('Gender & Sucide Count grouped by Age Group')\n",
    "plt.show()"
   ]
  },
  {
   "cell_type": "markdown",
   "metadata": {
    "colab_type": "text",
    "id": "RFh3cY8yJrb0"
   },
   "source": [
    "\n",
    "* From the above graph, we can infer that 35-54 years age group is more prone to suicides irrespective of the gender frollowed by 55-74 years age group. \n",
    "* All together, it is obvious that males tend to commit suicide more than female."
   ]
  },
  {
   "cell_type": "code",
   "execution_count": 29,
   "metadata": {
    "colab": {
     "base_uri": "https://localhost:8080/",
     "height": 459
    },
    "colab_type": "code",
    "id": "yn05WNZpJrb2",
    "outputId": "e19d544a-f117-4a78-b5f9-250a1dc46e59"
   },
   "outputs": [
    {
     "data": {
      "image/png": "[encoded data removed]",
      "text/plain": [
       "<Figure size 504x504 with 1 Axes>"
      ]
     },
     "metadata": {
      "needs_background": "light"
     },
     "output_type": "display_data"
    }
   ],
   "source": [
    "#Gender & Sucide Count grouped by Generation bar plot\n",
    "\n",
    "plt.figure(figsize=(7,7))\n",
    "sns.barplot(y=\"gender\", x=\"suicide_count\", hue=\"generation\", data=data)\n",
    "plt.title('Gender & Sucide Count grouped by Generation')\n",
    "plt.show()"
   ]
  },
  {
   "cell_type": "markdown",
   "metadata": {
    "colab_type": "text",
    "id": "BM1IXvwzJrb8"
   },
   "source": [
    "* In the case of generation, the Bloomers generation had more suicide cases followed by Silent generation irrespective of the gender.\n",
    "* Even when considered generation, males are more prone to commit suicide."
   ]
  },
  {
   "cell_type": "code",
   "execution_count": 30,
   "metadata": {
    "colab": {
     "base_uri": "https://localhost:8080/",
     "height": 1000
    },
    "colab_type": "code",
    "id": "pwbi36P_Jrb9",
    "outputId": "e61c3fe9-74ee-4778-e3b3-3bc6064533cf",
    "scrolled": false
   },
   "outputs": [
    {
     "data": {
      "image/png": "[encoded data removed]",
      "text/plain": [
       "<Figure size 1080x1800 with 1 Axes>"
      ]
     },
     "metadata": {
      "needs_background": "light"
     },
     "output_type": "display_data"
    }
   ],
   "source": [
    "#Country & Suicide_rate Bar plot\n",
    "\n",
    "plt.figure(figsize=(15,25))\n",
    "sns.barplot(x = \"suicide_rate\", y = \"country\", data = data)\n",
    "plt.title('Country - Suicide_rate Bar plot')\n",
    "plt.show()"
   ]
  },
  {
   "cell_type": "markdown",
   "metadata": {
    "colab_type": "text",
    "id": "ExIyevw4JrcC"
   },
   "source": [
    "**The above bar plot shows that the  highest suicide rate country is  Lithuania followed by Sri Lanka.**"
   ]
  },
  {
   "cell_type": "code",
   "execution_count": 31,
   "metadata": {
    "colab": {
     "base_uri": "https://localhost:8080/",
     "height": 297
    },
    "colab_type": "code",
    "id": "vuV5pK1WJrcD",
    "outputId": "694334b9-eeef-4a4b-b3f8-25bdb8084661"
   },
   "outputs": [
    {
     "data": {
      "text/plain": [
       "<AxesSubplot:xlabel='year'>"
      ]
     },
     "execution_count": 31,
     "metadata": {},
     "output_type": "execute_result"
    },
    {
     "data": {
      "image/png": "[encoded data removed]",
      "text/plain": [
       "<Figure size 432x288 with 1 Axes>"
      ]
     },
     "metadata": {
      "needs_background": "light"
     },
     "output_type": "display_data"
    }
   ],
   "source": [
    "#Line plpot of year and suicide_rate\n",
    "\n",
    "data[['year','suicide_rate']].groupby(['year']).sum().plot()"
   ]
  },
  {
   "cell_type": "markdown",
   "metadata": {
    "colab_type": "text",
    "id": "U3xFvdY5JrcH"
   },
   "source": [
    "**The observations from the above plot are that the suicide rate had grown rapidly from year 1990 & the rate of suicide has drastically reduced in year 2016.** The dataset was collected during early 2016. So all the suicide cases of 2016 are not recorded in the dataset."
   ]
  },
  {
   "cell_type": "code",
   "execution_count": 32,
   "metadata": {
    "colab": {
     "base_uri": "https://localhost:8080/",
     "height": 644
    },
    "colab_type": "code",
    "id": "qDRO2VXTBBFD",
    "outputId": "71c38b36-2490-45aa-cc8d-b212188d23e0"
   },
   "outputs": [
    {
     "data": {
      "text/plain": [
       "<Figure size 1440x720 with 0 Axes>"
      ]
     },
     "metadata": {},
     "output_type": "display_data"
    },
    {
     "data": {
      "image/png": "[encoded data removed]",
      "text/plain": [
       "<Figure size 1440x720 with 25 Axes>"
      ]
     },
     "metadata": {
      "needs_background": "light"
     },
     "output_type": "display_data"
    }
   ],
   "source": [
    "#Scatter matrix for checking outlier\n",
    "\n",
    "plt.figure(figsize=(20,10))\n",
    "attributes = ['suicide_count', 'population', 'suicide_rate','HDI for year', \n",
    "              'gdp_for_year','gdp_per_capita']\n",
    "scatter_matrix(data[attributes], figsize=(20,10))\n",
    "plt.show()"
   ]
  },
  {
   "cell_type": "markdown",
   "metadata": {
    "colab_type": "text",
    "id": "fG2WAo9eJrcI"
   },
   "source": [
    "## **4. Data Preprocessing & EDA:**"
   ]
  },
  {
   "cell_type": "code",
   "execution_count": 33,
   "metadata": {
    "colab": {
     "base_uri": "https://localhost:8080/",
     "height": 282
    },
    "colab_type": "code",
    "id": "-l05DfNnJrcJ",
    "outputId": "6b1855fa-7cb6-49ae-dc75-3154e83e6c34",
    "scrolled": false
   },
   "outputs": [
    {
     "data": {
      "text/html": [
       "<div>\n",
       "<style scoped>\n",
       "    .dataframe tbody tr th:only-of-type {\n",
       "        vertical-align: middle;\n",
       "    }\n",
       "\n",
       "    .dataframe tbody tr th {\n",
       "        vertical-align: top;\n",
       "    }\n",
       "\n",
       "    .dataframe thead th {\n",
       "        text-align: right;\n",
       "    }\n",
       "</style>\n",
       "<table border=\"1\" class=\"dataframe\">\n",
       "  <thead>\n",
       "    <tr style=\"text-align: right;\">\n",
       "      <th></th>\n",
       "      <th>year</th>\n",
       "      <th>suicide_count</th>\n",
       "      <th>population</th>\n",
       "      <th>suicide_rate</th>\n",
       "      <th>HDI for year</th>\n",
       "      <th>gdp_per_capita</th>\n",
       "    </tr>\n",
       "  </thead>\n",
       "  <tbody>\n",
       "    <tr>\n",
       "      <th>count</th>\n",
       "      <td>27820.000000</td>\n",
       "      <td>27820.000000</td>\n",
       "      <td>2.782000e+04</td>\n",
       "      <td>27820.000000</td>\n",
       "      <td>8364.000000</td>\n",
       "      <td>27820.000000</td>\n",
       "    </tr>\n",
       "    <tr>\n",
       "      <th>mean</th>\n",
       "      <td>2001.258375</td>\n",
       "      <td>242.574407</td>\n",
       "      <td>1.844794e+06</td>\n",
       "      <td>12.816097</td>\n",
       "      <td>0.776601</td>\n",
       "      <td>16866.464414</td>\n",
       "    </tr>\n",
       "    <tr>\n",
       "      <th>std</th>\n",
       "      <td>8.469055</td>\n",
       "      <td>902.047917</td>\n",
       "      <td>3.911779e+06</td>\n",
       "      <td>18.961511</td>\n",
       "      <td>0.093367</td>\n",
       "      <td>18887.576472</td>\n",
       "    </tr>\n",
       "    <tr>\n",
       "      <th>min</th>\n",
       "      <td>1985.000000</td>\n",
       "      <td>0.000000</td>\n",
       "      <td>2.780000e+02</td>\n",
       "      <td>0.000000</td>\n",
       "      <td>0.483000</td>\n",
       "      <td>251.000000</td>\n",
       "    </tr>\n",
       "    <tr>\n",
       "      <th>25%</th>\n",
       "      <td>1995.000000</td>\n",
       "      <td>3.000000</td>\n",
       "      <td>9.749850e+04</td>\n",
       "      <td>0.920000</td>\n",
       "      <td>0.713000</td>\n",
       "      <td>3447.000000</td>\n",
       "    </tr>\n",
       "    <tr>\n",
       "      <th>50%</th>\n",
       "      <td>2002.000000</td>\n",
       "      <td>25.000000</td>\n",
       "      <td>4.301500e+05</td>\n",
       "      <td>5.990000</td>\n",
       "      <td>0.779000</td>\n",
       "      <td>9372.000000</td>\n",
       "    </tr>\n",
       "    <tr>\n",
       "      <th>75%</th>\n",
       "      <td>2008.000000</td>\n",
       "      <td>131.000000</td>\n",
       "      <td>1.486143e+06</td>\n",
       "      <td>16.620000</td>\n",
       "      <td>0.855000</td>\n",
       "      <td>24874.000000</td>\n",
       "    </tr>\n",
       "    <tr>\n",
       "      <th>max</th>\n",
       "      <td>2016.000000</td>\n",
       "      <td>22338.000000</td>\n",
       "      <td>4.380521e+07</td>\n",
       "      <td>224.970000</td>\n",
       "      <td>0.944000</td>\n",
       "      <td>126352.000000</td>\n",
       "    </tr>\n",
       "  </tbody>\n",
       "</table>\n",
       "</div>"
      ],
      "text/plain": [
       "               year  suicide_count    population  suicide_rate  HDI for year  \\\n",
       "count  27820.000000   27820.000000  2.782000e+04  27820.000000   8364.000000   \n",
       "mean    2001.258375     242.574407  1.844794e+06     12.816097      0.776601   \n",
       "std        8.469055     902.047917  3.911779e+06     18.961511      0.093367   \n",
       "min     1985.000000       0.000000  2.780000e+02      0.000000      0.483000   \n",
       "25%     1995.000000       3.000000  9.749850e+04      0.920000      0.713000   \n",
       "50%     2002.000000      25.000000  4.301500e+05      5.990000      0.779000   \n",
       "75%     2008.000000     131.000000  1.486143e+06     16.620000      0.855000   \n",
       "max     2016.000000   22338.000000  4.380521e+07    224.970000      0.944000   \n",
       "\n",
       "       gdp_per_capita  \n",
       "count    27820.000000  \n",
       "mean     16866.464414  \n",
       "std      18887.576472  \n",
       "min        251.000000  \n",
       "25%       3447.000000  \n",
       "50%       9372.000000  \n",
       "75%      24874.000000  \n",
       "max     126352.000000  "
      ]
     },
     "execution_count": 33,
     "metadata": {},
     "output_type": "execute_result"
    }
   ],
   "source": [
    "data.describe()"
   ]
  },
  {
   "cell_type": "code",
   "execution_count": 34,
   "metadata": {
    "colab": {
     "base_uri": "https://localhost:8080/",
     "height": 248
    },
    "colab_type": "code",
    "id": "gEKRQmQdJrcO",
    "outputId": "87b2ae95-ce61-4965-bc65-d9f44bc5d016"
   },
   "outputs": [
    {
     "data": {
      "text/plain": [
       "country               0\n",
       "year                  0\n",
       "gender                0\n",
       "age_group             0\n",
       "suicide_count         0\n",
       "population            0\n",
       "suicide_rate          0\n",
       "country-year          0\n",
       "HDI for year      19456\n",
       "gdp_for_year          0\n",
       "gdp_per_capita        0\n",
       "generation            0\n",
       "dtype: int64"
      ]
     },
     "execution_count": 34,
     "metadata": {},
     "output_type": "execute_result"
    }
   ],
   "source": [
    "#checking the data for null or missing values\n",
    "\n",
    "data.isnull().sum()"
   ]
  },
  {
   "cell_type": "markdown",
   "metadata": {
    "colab_type": "text",
    "id": "z8uvkXaJJrcT"
   },
   "source": [
    "From the above stats, it is clear that the column, `HDI for year` has 19456 null values out of 27820 samples which is approximately 70% of the column. This may tamper the model performance so, dropping the `HDI for year` column from the dataset."
   ]
  },
  {
   "cell_type": "code",
   "execution_count": 35,
   "metadata": {
    "colab": {
     "base_uri": "https://localhost:8080/",
     "height": 35
    },
    "colab_type": "code",
    "id": "PI146ZvIJrcU",
    "outputId": "792706d5-1fc9-4f27-817f-16fd786f9ed7"
   },
   "outputs": [
    {
     "data": {
      "text/plain": [
       "(27820, 11)"
      ]
     },
     "execution_count": 35,
     "metadata": {},
     "output_type": "execute_result"
    }
   ],
   "source": [
    "#dropping the HDI for year column\n",
    "\n",
    "data = data.drop(['HDI for year'], axis = 1)\n",
    "data.shape"
   ]
  },
  {
   "cell_type": "code",
   "execution_count": 36,
   "metadata": {
    "colab": {
     "base_uri": "https://localhost:8080/",
     "height": 88
    },
    "colab_type": "code",
    "id": "a9MKNEgjJrca",
    "outputId": "9e03d747-c72c-4749-8977-3f73486b7109"
   },
   "outputs": [
    {
     "data": {
      "text/plain": [
       "Index(['country', 'year', 'gender', 'age_group', 'suicide_count', 'population',\n",
       "       'suicide_rate', 'country-year', 'gdp_for_year', 'gdp_per_capita',\n",
       "       'generation'],\n",
       "      dtype='object')"
      ]
     },
     "execution_count": 36,
     "metadata": {},
     "output_type": "execute_result"
    }
   ],
   "source": [
    "data.columns"
   ]
  },
  {
   "cell_type": "markdown",
   "metadata": {
    "colab_type": "text",
    "id": "xpVKRgsYJrce"
   },
   "source": [
    "The column country-year is just a combination of country and year columns. So dropping that column."
   ]
  },
  {
   "cell_type": "code",
   "execution_count": 37,
   "metadata": {
    "colab": {
     "base_uri": "https://localhost:8080/",
     "height": 35
    },
    "colab_type": "code",
    "id": "gSn8Pg4rJrcf",
    "outputId": "635a2d8f-889d-4af4-a2b9-0f6cfc47c073"
   },
   "outputs": [
    {
     "data": {
      "text/plain": [
       "(27820, 10)"
      ]
     },
     "execution_count": 37,
     "metadata": {},
     "output_type": "execute_result"
    }
   ],
   "source": [
    "#dropping the country-year for year column\n",
    "\n",
    "data = data.drop(['country-year'], axis = 1)\n",
    "data.shape"
   ]
  },
  {
   "cell_type": "markdown",
   "metadata": {
    "colab_type": "text",
    "id": "Sa6vo9J9Jrck"
   },
   "source": [
    "Now we are going further with 10 features which also include the target column. For further assurance, lets drop all the null rows from the dataset."
   ]
  },
  {
   "cell_type": "code",
   "execution_count": 38,
   "metadata": {
    "colab": {
     "base_uri": "https://localhost:8080/",
     "height": 35
    },
    "colab_type": "code",
    "id": "xLLiugQDJrcl",
    "outputId": "f38da4dd-7d51-42d6-aa72-ab6134fad0b7"
   },
   "outputs": [
    {
     "data": {
      "text/plain": [
       "(27820, 10)"
      ]
     },
     "execution_count": 38,
     "metadata": {},
     "output_type": "execute_result"
    }
   ],
   "source": [
    "#droppinf off any null rows (is any)\n",
    "\n",
    "data = data.dropna()\n",
    "data.shape"
   ]
  },
  {
   "cell_type": "markdown",
   "metadata": {
    "colab_type": "text",
    "id": "aOwL6v_TJrc8"
   },
   "source": [
    "The non-numerical labeled columns, country, year, gender, age_group and generation are to be converted to numerical labels that can be don by using SkLearn's LabelEncoder."
   ]
  },
  {
   "cell_type": "code",
   "execution_count": 40,
   "metadata": {
    "colab": {},
    "colab_type": "code",
    "id": "7wWr9BSnhtDb"
   },
   "outputs": [],
   "source": [
    "#encoding the categorical features with LabelEncoder\n",
    "\n",
    "from sklearn.preprocessing import LabelEncoder\n",
    "categorical = ['country', 'year','age_group', 'gender', 'generation']\n",
    "le = sklearn.preprocessing.LabelEncoder()\n",
    "\n",
    "for column in categorical:\n",
    "    data[column] = le.fit_transform(data[column])"
   ]
  },
  {
   "cell_type": "code",
   "execution_count": 41,
   "metadata": {
    "colab": {
     "base_uri": "https://localhost:8080/",
     "height": 399
    },
    "colab_type": "code",
    "id": "2874A9Kjl6oc",
    "outputId": "f381479a-287d-49bc-fc0a-8e0ea5de73f2"
   },
   "outputs": [
    {
     "data": {
      "text/html": [
       "<div>\n",
       "<style scoped>\n",
       "    .dataframe tbody tr th:only-of-type {\n",
       "        vertical-align: middle;\n",
       "    }\n",
       "\n",
       "    .dataframe tbody tr th {\n",
       "        vertical-align: top;\n",
       "    }\n",
       "\n",
       "    .dataframe thead th {\n",
       "        text-align: right;\n",
       "    }\n",
       "</style>\n",
       "<table border=\"1\" class=\"dataframe\">\n",
       "  <thead>\n",
       "    <tr style=\"text-align: right;\">\n",
       "      <th></th>\n",
       "      <th>country</th>\n",
       "      <th>year</th>\n",
       "      <th>gender</th>\n",
       "      <th>age_group</th>\n",
       "      <th>suicide_count</th>\n",
       "      <th>population</th>\n",
       "      <th>suicide_rate</th>\n",
       "      <th>gdp_for_year</th>\n",
       "      <th>gdp_per_capita</th>\n",
       "      <th>generation</th>\n",
       "    </tr>\n",
       "  </thead>\n",
       "  <tbody>\n",
       "    <tr>\n",
       "      <th>0</th>\n",
       "      <td>0</td>\n",
       "      <td>2</td>\n",
       "      <td>1</td>\n",
       "      <td>0</td>\n",
       "      <td>21</td>\n",
       "      <td>312900</td>\n",
       "      <td>6.71</td>\n",
       "      <td>2,156,624,900</td>\n",
       "      <td>796</td>\n",
       "      <td>2</td>\n",
       "    </tr>\n",
       "    <tr>\n",
       "      <th>1</th>\n",
       "      <td>0</td>\n",
       "      <td>2</td>\n",
       "      <td>1</td>\n",
       "      <td>2</td>\n",
       "      <td>16</td>\n",
       "      <td>308000</td>\n",
       "      <td>5.19</td>\n",
       "      <td>2,156,624,900</td>\n",
       "      <td>796</td>\n",
       "      <td>5</td>\n",
       "    </tr>\n",
       "    <tr>\n",
       "      <th>2</th>\n",
       "      <td>0</td>\n",
       "      <td>2</td>\n",
       "      <td>0</td>\n",
       "      <td>0</td>\n",
       "      <td>14</td>\n",
       "      <td>289700</td>\n",
       "      <td>4.83</td>\n",
       "      <td>2,156,624,900</td>\n",
       "      <td>796</td>\n",
       "      <td>2</td>\n",
       "    </tr>\n",
       "    <tr>\n",
       "      <th>3</th>\n",
       "      <td>0</td>\n",
       "      <td>2</td>\n",
       "      <td>1</td>\n",
       "      <td>5</td>\n",
       "      <td>1</td>\n",
       "      <td>21800</td>\n",
       "      <td>4.59</td>\n",
       "      <td>2,156,624,900</td>\n",
       "      <td>796</td>\n",
       "      <td>1</td>\n",
       "    </tr>\n",
       "    <tr>\n",
       "      <th>4</th>\n",
       "      <td>0</td>\n",
       "      <td>2</td>\n",
       "      <td>1</td>\n",
       "      <td>1</td>\n",
       "      <td>9</td>\n",
       "      <td>274300</td>\n",
       "      <td>3.28</td>\n",
       "      <td>2,156,624,900</td>\n",
       "      <td>796</td>\n",
       "      <td>0</td>\n",
       "    </tr>\n",
       "    <tr>\n",
       "      <th>...</th>\n",
       "      <td>...</td>\n",
       "      <td>...</td>\n",
       "      <td>...</td>\n",
       "      <td>...</td>\n",
       "      <td>...</td>\n",
       "      <td>...</td>\n",
       "      <td>...</td>\n",
       "      <td>...</td>\n",
       "      <td>...</td>\n",
       "      <td>...</td>\n",
       "    </tr>\n",
       "    <tr>\n",
       "      <th>27815</th>\n",
       "      <td>100</td>\n",
       "      <td>29</td>\n",
       "      <td>0</td>\n",
       "      <td>2</td>\n",
       "      <td>107</td>\n",
       "      <td>3620833</td>\n",
       "      <td>2.96</td>\n",
       "      <td>63,067,077,179</td>\n",
       "      <td>2309</td>\n",
       "      <td>2</td>\n",
       "    </tr>\n",
       "    <tr>\n",
       "      <th>27816</th>\n",
       "      <td>100</td>\n",
       "      <td>29</td>\n",
       "      <td>0</td>\n",
       "      <td>5</td>\n",
       "      <td>9</td>\n",
       "      <td>348465</td>\n",
       "      <td>2.58</td>\n",
       "      <td>63,067,077,179</td>\n",
       "      <td>2309</td>\n",
       "      <td>5</td>\n",
       "    </tr>\n",
       "    <tr>\n",
       "      <th>27817</th>\n",
       "      <td>100</td>\n",
       "      <td>29</td>\n",
       "      <td>1</td>\n",
       "      <td>3</td>\n",
       "      <td>60</td>\n",
       "      <td>2762158</td>\n",
       "      <td>2.17</td>\n",
       "      <td>63,067,077,179</td>\n",
       "      <td>2309</td>\n",
       "      <td>3</td>\n",
       "    </tr>\n",
       "    <tr>\n",
       "      <th>27818</th>\n",
       "      <td>100</td>\n",
       "      <td>29</td>\n",
       "      <td>0</td>\n",
       "      <td>3</td>\n",
       "      <td>44</td>\n",
       "      <td>2631600</td>\n",
       "      <td>1.67</td>\n",
       "      <td>63,067,077,179</td>\n",
       "      <td>2309</td>\n",
       "      <td>3</td>\n",
       "    </tr>\n",
       "    <tr>\n",
       "      <th>27819</th>\n",
       "      <td>100</td>\n",
       "      <td>29</td>\n",
       "      <td>0</td>\n",
       "      <td>4</td>\n",
       "      <td>21</td>\n",
       "      <td>1438935</td>\n",
       "      <td>1.46</td>\n",
       "      <td>63,067,077,179</td>\n",
       "      <td>2309</td>\n",
       "      <td>0</td>\n",
       "    </tr>\n",
       "  </tbody>\n",
       "</table>\n",
       "<p>27820 rows × 10 columns</p>\n",
       "</div>"
      ],
      "text/plain": [
       "       country  year  gender  age_group  suicide_count  population  \\\n",
       "0            0     2       1          0             21      312900   \n",
       "1            0     2       1          2             16      308000   \n",
       "2            0     2       0          0             14      289700   \n",
       "3            0     2       1          5              1       21800   \n",
       "4            0     2       1          1              9      274300   \n",
       "...        ...   ...     ...        ...            ...         ...   \n",
       "27815      100    29       0          2            107     3620833   \n",
       "27816      100    29       0          5              9      348465   \n",
       "27817      100    29       1          3             60     2762158   \n",
       "27818      100    29       0          3             44     2631600   \n",
       "27819      100    29       0          4             21     1438935   \n",
       "\n",
       "       suicide_rate    gdp_for_year  gdp_per_capita  generation  \n",
       "0              6.71   2,156,624,900             796           2  \n",
       "1              5.19   2,156,624,900             796           5  \n",
       "2              4.83   2,156,624,900             796           2  \n",
       "3              4.59   2,156,624,900             796           1  \n",
       "4              3.28   2,156,624,900             796           0  \n",
       "...             ...             ...             ...         ...  \n",
       "27815          2.96  63,067,077,179            2309           2  \n",
       "27816          2.58  63,067,077,179            2309           5  \n",
       "27817          2.17  63,067,077,179            2309           3  \n",
       "27818          1.67  63,067,077,179            2309           3  \n",
       "27819          1.46  63,067,077,179            2309           0  \n",
       "\n",
       "[27820 rows x 10 columns]"
      ]
     },
     "execution_count": 41,
     "metadata": {},
     "output_type": "execute_result"
    }
   ],
   "source": [
    "#creating a copy of dataset for statistical test\n",
    "\n",
    "stat_data = data.copy()\n",
    "stat_data"
   ]
  },
  {
   "cell_type": "markdown",
   "metadata": {
    "colab_type": "text",
    "id": "1syJ6q7OJrcp"
   },
   "source": []
  },
  {
   "cell_type": "code",
   "execution_count": 42,
   "metadata": {
    "colab": {
     "base_uri": "https://localhost:8080/",
     "height": 212
    },
    "colab_type": "code",
    "id": "u_CUS3-cJrcq",
    "outputId": "d3fca057-e50c-413f-a803-9f85d51a465c",
    "scrolled": true
   },
   "outputs": [
    {
     "data": {
      "text/plain": [
       "country             int64\n",
       "year                int64\n",
       "gender              int64\n",
       "age_group           int64\n",
       "suicide_count       int64\n",
       "population          int64\n",
       "suicide_rate      float64\n",
       "gdp_for_year       object\n",
       "gdp_per_capita      int64\n",
       "generation          int64\n",
       "dtype: object"
      ]
     },
     "execution_count": 42,
     "metadata": {},
     "output_type": "execute_result"
    }
   ],
   "source": [
    "#Checking the data type of each column\n",
    "\n",
    "data.dtypes"
   ]
  },
  {
   "cell_type": "code",
   "execution_count": 43,
   "metadata": {
    "colab": {},
    "colab_type": "code",
    "id": "Sw2_Re7xJrcz",
    "scrolled": false
   },
   "outputs": [],
   "source": [
    "# Converting the column 'gdp_for_year' to float from object\n",
    "\n",
    "data['gdp_for_year'] = data['gdp_for_year'].str.replace(',','').astype(float)"
   ]
  },
  {
   "cell_type": "code",
   "execution_count": 44,
   "metadata": {
    "colab": {},
    "colab_type": "code",
    "id": "uEeVV8tYb6Wh"
   },
   "outputs": [],
   "source": [
    "#Scaling the numerical data columns with RobustScalar\n",
    "\n",
    "numerical = ['suicide_count', 'population', 'suicide_rate', \n",
    "              'gdp_for_year','gdp_per_capita']\n",
    "\n",
    "from sklearn.preprocessing import RobustScaler\n",
    "\n",
    "rc = RobustScaler()\n",
    "data[numerical] = rc.fit_transform(data[numerical])"
   ]
  },
  {
   "cell_type": "code",
   "execution_count": 45,
   "metadata": {
    "colab": {
     "base_uri": "https://localhost:8080/",
     "height": 399
    },
    "colab_type": "code",
    "id": "KCnkaPqLJrc-",
    "outputId": "7b276ad8-cdeb-481c-ae42-a5ec6bbe096e"
   },
   "outputs": [
    {
     "data": {
      "text/html": [
       "<div>\n",
       "<style scoped>\n",
       "    .dataframe tbody tr th:only-of-type {\n",
       "        vertical-align: middle;\n",
       "    }\n",
       "\n",
       "    .dataframe tbody tr th {\n",
       "        vertical-align: top;\n",
       "    }\n",
       "\n",
       "    .dataframe thead th {\n",
       "        text-align: right;\n",
       "    }\n",
       "</style>\n",
       "<table border=\"1\" class=\"dataframe\">\n",
       "  <thead>\n",
       "    <tr style=\"text-align: right;\">\n",
       "      <th></th>\n",
       "      <th>country</th>\n",
       "      <th>year</th>\n",
       "      <th>gender</th>\n",
       "      <th>age_group</th>\n",
       "      <th>suicide_count</th>\n",
       "      <th>population</th>\n",
       "      <th>suicide_rate</th>\n",
       "      <th>gdp_for_year</th>\n",
       "      <th>gdp_per_capita</th>\n",
       "      <th>generation</th>\n",
       "    </tr>\n",
       "  </thead>\n",
       "  <tbody>\n",
       "    <tr>\n",
       "      <th>0</th>\n",
       "      <td>0</td>\n",
       "      <td>2</td>\n",
       "      <td>1</td>\n",
       "      <td>0</td>\n",
       "      <td>-0.031250</td>\n",
       "      <td>-0.084435</td>\n",
       "      <td>0.045860</td>\n",
       "      <td>-0.182942</td>\n",
       "      <td>-0.400243</td>\n",
       "      <td>2</td>\n",
       "    </tr>\n",
       "    <tr>\n",
       "      <th>1</th>\n",
       "      <td>0</td>\n",
       "      <td>2</td>\n",
       "      <td>1</td>\n",
       "      <td>2</td>\n",
       "      <td>-0.070312</td>\n",
       "      <td>-0.087963</td>\n",
       "      <td>-0.050955</td>\n",
       "      <td>-0.182942</td>\n",
       "      <td>-0.400243</td>\n",
       "      <td>5</td>\n",
       "    </tr>\n",
       "    <tr>\n",
       "      <th>2</th>\n",
       "      <td>0</td>\n",
       "      <td>2</td>\n",
       "      <td>0</td>\n",
       "      <td>0</td>\n",
       "      <td>-0.085938</td>\n",
       "      <td>-0.101142</td>\n",
       "      <td>-0.073885</td>\n",
       "      <td>-0.182942</td>\n",
       "      <td>-0.400243</td>\n",
       "      <td>2</td>\n",
       "    </tr>\n",
       "    <tr>\n",
       "      <th>3</th>\n",
       "      <td>0</td>\n",
       "      <td>2</td>\n",
       "      <td>1</td>\n",
       "      <td>5</td>\n",
       "      <td>-0.187500</td>\n",
       "      <td>-0.294064</td>\n",
       "      <td>-0.089172</td>\n",
       "      <td>-0.182942</td>\n",
       "      <td>-0.400243</td>\n",
       "      <td>1</td>\n",
       "    </tr>\n",
       "    <tr>\n",
       "      <th>4</th>\n",
       "      <td>0</td>\n",
       "      <td>2</td>\n",
       "      <td>1</td>\n",
       "      <td>1</td>\n",
       "      <td>-0.125000</td>\n",
       "      <td>-0.112232</td>\n",
       "      <td>-0.172611</td>\n",
       "      <td>-0.182942</td>\n",
       "      <td>-0.400243</td>\n",
       "      <td>0</td>\n",
       "    </tr>\n",
       "    <tr>\n",
       "      <th>...</th>\n",
       "      <td>...</td>\n",
       "      <td>...</td>\n",
       "      <td>...</td>\n",
       "      <td>...</td>\n",
       "      <td>...</td>\n",
       "      <td>...</td>\n",
       "      <td>...</td>\n",
       "      <td>...</td>\n",
       "      <td>...</td>\n",
       "      <td>...</td>\n",
       "    </tr>\n",
       "    <tr>\n",
       "      <th>27815</th>\n",
       "      <td>100</td>\n",
       "      <td>29</td>\n",
       "      <td>0</td>\n",
       "      <td>2</td>\n",
       "      <td>0.640625</td>\n",
       "      <td>2.297696</td>\n",
       "      <td>-0.192994</td>\n",
       "      <td>0.059520</td>\n",
       "      <td>-0.329631</td>\n",
       "      <td>2</td>\n",
       "    </tr>\n",
       "    <tr>\n",
       "      <th>27816</th>\n",
       "      <td>100</td>\n",
       "      <td>29</td>\n",
       "      <td>0</td>\n",
       "      <td>5</td>\n",
       "      <td>-0.125000</td>\n",
       "      <td>-0.058824</td>\n",
       "      <td>-0.217197</td>\n",
       "      <td>0.059520</td>\n",
       "      <td>-0.329631</td>\n",
       "      <td>5</td>\n",
       "    </tr>\n",
       "    <tr>\n",
       "      <th>27817</th>\n",
       "      <td>100</td>\n",
       "      <td>29</td>\n",
       "      <td>1</td>\n",
       "      <td>3</td>\n",
       "      <td>0.273438</td>\n",
       "      <td>1.679341</td>\n",
       "      <td>-0.243312</td>\n",
       "      <td>0.059520</td>\n",
       "      <td>-0.329631</td>\n",
       "      <td>3</td>\n",
       "    </tr>\n",
       "    <tr>\n",
       "      <th>27818</th>\n",
       "      <td>100</td>\n",
       "      <td>29</td>\n",
       "      <td>0</td>\n",
       "      <td>3</td>\n",
       "      <td>0.148438</td>\n",
       "      <td>1.585323</td>\n",
       "      <td>-0.275159</td>\n",
       "      <td>0.059520</td>\n",
       "      <td>-0.329631</td>\n",
       "      <td>3</td>\n",
       "    </tr>\n",
       "    <tr>\n",
       "      <th>27819</th>\n",
       "      <td>100</td>\n",
       "      <td>29</td>\n",
       "      <td>0</td>\n",
       "      <td>4</td>\n",
       "      <td>-0.031250</td>\n",
       "      <td>0.726453</td>\n",
       "      <td>-0.288535</td>\n",
       "      <td>0.059520</td>\n",
       "      <td>-0.329631</td>\n",
       "      <td>0</td>\n",
       "    </tr>\n",
       "  </tbody>\n",
       "</table>\n",
       "<p>27820 rows × 10 columns</p>\n",
       "</div>"
      ],
      "text/plain": [
       "       country  year  gender  age_group  suicide_count  population  \\\n",
       "0            0     2       1          0      -0.031250   -0.084435   \n",
       "1            0     2       1          2      -0.070312   -0.087963   \n",
       "2            0     2       0          0      -0.085938   -0.101142   \n",
       "3            0     2       1          5      -0.187500   -0.294064   \n",
       "4            0     2       1          1      -0.125000   -0.112232   \n",
       "...        ...   ...     ...        ...            ...         ...   \n",
       "27815      100    29       0          2       0.640625    2.297696   \n",
       "27816      100    29       0          5      -0.125000   -0.058824   \n",
       "27817      100    29       1          3       0.273438    1.679341   \n",
       "27818      100    29       0          3       0.148438    1.585323   \n",
       "27819      100    29       0          4      -0.031250    0.726453   \n",
       "\n",
       "       suicide_rate  gdp_for_year  gdp_per_capita  generation  \n",
       "0          0.045860     -0.182942       -0.400243           2  \n",
       "1         -0.050955     -0.182942       -0.400243           5  \n",
       "2         -0.073885     -0.182942       -0.400243           2  \n",
       "3         -0.089172     -0.182942       -0.400243           1  \n",
       "4         -0.172611     -0.182942       -0.400243           0  \n",
       "...             ...           ...             ...         ...  \n",
       "27815     -0.192994      0.059520       -0.329631           2  \n",
       "27816     -0.217197      0.059520       -0.329631           5  \n",
       "27817     -0.243312      0.059520       -0.329631           3  \n",
       "27818     -0.275159      0.059520       -0.329631           3  \n",
       "27819     -0.288535      0.059520       -0.329631           0  \n",
       "\n",
       "[27820 rows x 10 columns]"
      ]
     },
     "execution_count": 45,
     "metadata": {},
     "output_type": "execute_result"
    }
   ],
   "source": [
    "data"
   ]
  },
  {
   "cell_type": "markdown",
   "metadata": {
    "colab_type": "text",
    "id": "WGrtnDb1JrdC"
   },
   "source": [
    "## **5. Splitting the Data:**\n",
    "\n",
    "The data is split into train & test sets, 80-20 split."
   ]
  },
  {
   "cell_type": "code",
   "execution_count": 46,
   "metadata": {
    "colab": {
     "base_uri": "https://localhost:8080/",
     "height": 35
    },
    "colab_type": "code",
    "id": "8eDXiI-bJrdD",
    "outputId": "36f4865b-8b88-421f-9d0a-08333117c5aa",
    "scrolled": false
   },
   "outputs": [
    {
     "data": {
      "text/plain": [
       "((27820, 9), (27820,))"
      ]
     },
     "execution_count": 46,
     "metadata": {},
     "output_type": "execute_result"
    }
   ],
   "source": [
    "# Sepratating & assigning features and target columns to X & y\n",
    "\n",
    "y = data['suicide_rate']\n",
    "X = data.drop('suicide_rate',axis=1)\n",
    "X.shape, y.shape"
   ]
  },
  {
   "cell_type": "code",
   "execution_count": 47,
   "metadata": {
    "colab": {
     "base_uri": "https://localhost:8080/",
     "height": 35
    },
    "colab_type": "code",
    "id": "rvt2xPcFJrdI",
    "outputId": "3be01a53-faca-4af2-fa91-198eabe61fe4",
    "scrolled": true
   },
   "outputs": [
    {
     "data": {
      "text/plain": [
       "((22256, 9), (5564, 9))"
      ]
     },
     "execution_count": 47,
     "metadata": {},
     "output_type": "execute_result"
    }
   ],
   "source": [
    "# Splitting the dataset into train and test sets: 80-20 split\n",
    "\n",
    "from sklearn.model_selection import train_test_split\n",
    "\n",
    "X_train, X_test, y_train, y_test = train_test_split(X, y, test_size = 0.2, random_state = 12)\n",
    "X_train.shape, X_test.shape"
   ]
  },
  {
   "cell_type": "markdown",
   "metadata": {
    "colab_type": "text",
    "id": "xvU-3zOJJrdO"
   },
   "source": [
    "## **6. Model Building & Training:**"
   ]
  },
  {
   "cell_type": "code",
   "execution_count": 48,
   "metadata": {
    "colab": {},
    "colab_type": "code",
    "id": "4-FiFFE8U3Np"
   },
   "outputs": [],
   "source": [
    "#importing required libraries \n",
    "from sklearn.metrics import mean_squared_error\n",
    "from sklearn.model_selection import GridSearchCV"
   ]
  },
  {
   "cell_type": "code",
   "execution_count": 49,
   "metadata": {
    "colab": {},
    "colab_type": "code",
    "id": "XnnP3JBdsV3_"
   },
   "outputs": [],
   "source": [
    "# Creating holders to store the model performance results\n",
    "ML_Model = []\n",
    "acc_train = []\n",
    "acc_test = []\n",
    "rmse_train = []\n",
    "rmse_test = []\n",
    "\n",
    "#function to call for storing the results\n",
    "def storeResults(model, a,b,c,d):\n",
    "  ML_Model.append(model)\n",
    "  acc_train.append(round(a, 3))\n",
    "  acc_test.append(round(b, 3))\n",
    "  rmse_train.append(round(c, 3))\n",
    "  rmse_test.append(round(d, 3))"
   ]
  },
  {
   "cell_type": "markdown",
   "metadata": {
    "colab_type": "text",
    "id": "UJzPG709Mg1q"
   },
   "source": [
    "### **6.1. k-Nearest Neighbors Regression:**"
   ]
  },
  {
   "cell_type": "code",
   "execution_count": 57,
   "metadata": {
    "colab": {
     "base_uri": "https://localhost:8080/",
     "height": 248
    },
    "colab_type": "code",
    "id": "YA8km8bBOBXN",
    "outputId": "e3564bff-9c04-464f-c959-a15ac71cf827"
   },
   "outputs": [
    {
     "data": {
      "text/plain": [
       "GridSearchCV(cv=10, estimator=KNeighborsRegressor(),\n",
       "             param_grid={'n_neighbors': [1, 2, 3, 4, 5, 6, 7, 8, 9, 10, 11, 12,\n",
       "                                         13, 14, 15, 16, 17, 18, 19, 20, 21, 22,\n",
       "                                         23, 24, 25, 26, 27, 28, 29, 30],\n",
       "                         'weights': ['uniform', 'distance']})"
      ]
     },
     "execution_count": 57,
     "metadata": {},
     "output_type": "execute_result"
    }
   ],
   "source": [
    "# KNN Regression model\n",
    "from sklearn.neighbors import KNeighborsRegressor\n",
    "\n",
    "# instantiate the model\n",
    "knn = KNeighborsRegressor()\n",
    "\n",
    "param_grid = {'n_neighbors':list(range(1, 31)), 'weights': ['uniform', 'distance']}\n",
    "\n",
    "# instantiate the grid\n",
    "knn_grid = GridSearchCV(knn, param_grid , cv=10)\n",
    "\n",
    "# fit the model \n",
    "knn_grid.fit(X_train, y_train)\n"
   ]
  },
  {
   "cell_type": "code",
   "execution_count": 58,
   "metadata": {
    "colab": {
     "base_uri": "https://localhost:8080/",
     "height": 35
    },
    "colab_type": "code",
    "id": "3_mRw5R3q39p",
    "outputId": "0777d814-6a1d-473f-fa2c-b658a76e64bf"
   },
   "outputs": [
    {
     "name": "stdout",
     "output_type": "stream",
     "text": [
      "{'n_neighbors': 1, 'weights': 'uniform'}\n"
     ]
    }
   ],
   "source": [
    "#Checking the best parameters for the model\n",
    "knn_para = knn_grid.best_params_\n",
    "print(knn_para)"
   ]
  },
  {
   "cell_type": "code",
   "execution_count": 59,
   "metadata": {
    "colab": {},
    "colab_type": "code",
    "id": "HYwHEDsFTeEf"
   },
   "outputs": [],
   "source": [
    "#predicting the target value from the model for the samples\n",
    "y_train_knn = knn_grid.predict(X_train)\n",
    "y_test_knn = knn_grid.predict(X_test)"
   ]
  },
  {
   "cell_type": "markdown",
   "metadata": {
    "colab_type": "text",
    "id": "ezJTO40RTaEr"
   },
   "source": [
    "**Performance Evaluation:**"
   ]
  },
  {
   "cell_type": "code",
   "execution_count": 60,
   "metadata": {
    "colab": {
     "base_uri": "https://localhost:8080/",
     "height": 106
    },
    "colab_type": "code",
    "id": "Or3CUzLxTJeh",
    "outputId": "62e8dd1c-85b9-4598-d602-3ea2796907d9"
   },
   "outputs": [
    {
     "name": "stdout",
     "output_type": "stream",
     "text": [
      "KNN: Accuracy on training Data: 1.000\n",
      "KNN: Accuracy on test Data: 0.812\n",
      "\n",
      "KNN: The RMSE of the training set is: 0.0\n",
      "KNN: The RMSE of the testing set is: 0.5358202421806745\n"
     ]
    }
   ],
   "source": [
    "#computing the accuracy of the model performance\n",
    "acc_train_knn = knn_grid.score(X_train, y_train) \n",
    "acc_test_knn = knn_grid.score(X_test, y_test)\n",
    "\n",
    "#computing root mean squared error (RMSE)\n",
    "rmse_train_knn = np.sqrt(mean_squared_error(y_train, y_train_knn))\n",
    "rmse_test_knn = np.sqrt(mean_squared_error(y_test, y_test_knn))\n",
    "\n",
    "print(\"KNN: Accuracy on training Data: {:.3f}\".format(acc_train_knn))\n",
    "print(\"KNN: Accuracy on test Data: {:.3f}\".format(acc_test_knn))\n",
    "print('\\nKNN: The RMSE of the training set is:', rmse_train_knn)\n",
    "print('KNN: The RMSE of the testing set is:', rmse_test_knn)"
   ]
  },
  {
   "cell_type": "markdown",
   "metadata": {
    "colab_type": "text",
    "id": "WPFWrzg_xfY6"
   },
   "source": [
    "**Storing Results:**"
   ]
  },
  {
   "cell_type": "code",
   "execution_count": 61,
   "metadata": {
    "colab": {},
    "colab_type": "code",
    "id": "AgbKwIMFs0IL"
   },
   "outputs": [],
   "source": [
    "#storing the results. The below mentioned order of parameter passing is important.\n",
    "#Caution: Execute only once to avoid duplications.\n",
    "storeResults('k-Nearest Neighbors Regression', acc_train_knn, acc_test_knn, rmse_train_knn, rmse_test_knn)"
   ]
  },
  {
   "cell_type": "markdown",
   "metadata": {
    "colab_type": "text",
    "id": "YhHLCh6fcBkH"
   },
   "source": [
    "Evaluating training and testing set performance with different numbers of neighbors from 1 to 30. The plot shows the training and test set accuracy on the y-axis against the setting of\n",
    "n_neighbors on the x-axis."
   ]
  },
  {
   "cell_type": "code",
   "execution_count": 62,
   "metadata": {
    "colab": {
     "base_uri": "https://localhost:8080/",
     "height": 298
    },
    "colab_type": "code",
    "id": "xtSHKTBkZqIP",
    "outputId": "1e51e24e-3426-4073-f09a-bf7eca771978"
   },
   "outputs": [
    {
     "data": {
      "text/plain": [
       "<matplotlib.legend.Legend at 0x14c7446790>"
      ]
     },
     "execution_count": 62,
     "metadata": {},
     "output_type": "execute_result"
    },
    {
     "data": {
      "image/png": "[encoded data removed]",
      "text/plain": [
       "<Figure size 432x288 with 1 Axes>"
      ]
     },
     "metadata": {
      "needs_background": "light"
     },
     "output_type": "display_data"
    }
   ],
   "source": [
    "training_accuracy = []\n",
    "test_accuracy = []\n",
    "# try n_neighbors from 1 to 20\n",
    "neighbors_settings = range(1, 31)\n",
    "for n in neighbors_settings:\n",
    "  # fit the model\n",
    "  knn = KNeighborsRegressor(n_neighbors=n)\n",
    "  knn.fit(X_train, y_train)\n",
    "  # record training set accuracy\n",
    "  training_accuracy.append(knn.score(X_train, y_train))\n",
    "  # record generalization accuracy\n",
    "  test_accuracy.append(knn.score(X_test, y_test))\n",
    "\n",
    "#plotting the training & testing accuracy for n_neighbours from 1 to 30\n",
    "plt.plot(neighbors_settings, training_accuracy, label=\"training accuracy\")\n",
    "plt.plot(neighbors_settings, test_accuracy, label=\"test accuracy\")\n",
    "plt.ylabel(\"Accuracy\")  \n",
    "plt.xlabel(\"n_neighbors\")\n",
    "plt.legend()"
   ]
  },
  {
   "cell_type": "markdown",
   "metadata": {
    "colab_type": "text",
    "id": "S9RDEIXMVNEt"
   },
   "source": [
    "**OBSERVATIONS:** This discrepancy between performance on the training set and the testing set fro n_neighbors < 5 is a clear sign of overfitting. After that, the perfromance is not so great so, moving on to the other models."
   ]
  },
  {
   "cell_type": "markdown",
   "metadata": {
    "colab_type": "text",
    "id": "xU5ofQmeVNxT"
   },
   "source": [
    "### **6.2. Linear Regression**"
   ]
  },
  {
   "cell_type": "code",
   "execution_count": 63,
   "metadata": {
    "colab": {
     "base_uri": "https://localhost:8080/",
     "height": 35
    },
    "colab_type": "code",
    "id": "P3SXN6bPJrdP",
    "outputId": "56321272-fd6f-464b-9735-796a6bca1e6e"
   },
   "outputs": [
    {
     "data": {
      "text/plain": [
       "LinearRegression()"
      ]
     },
     "execution_count": 63,
     "metadata": {},
     "output_type": "execute_result"
    }
   ],
   "source": [
    "# Linear regression model \n",
    "from sklearn.linear_model import LinearRegression\n",
    "\n",
    "# instantiate the model\n",
    "lr = LinearRegression()\n",
    "# fit the model \n",
    "lr.fit(X_train, y_train)"
   ]
  },
  {
   "cell_type": "code",
   "execution_count": 64,
   "metadata": {
    "colab": {},
    "colab_type": "code",
    "id": "Ft9JzfhlJrdV"
   },
   "outputs": [],
   "source": [
    "#predicting the target value from the model for the samples\n",
    "y_test_lr = lr.predict(X_test)\n",
    "y_train_lr = lr.predict(X_train)"
   ]
  },
  {
   "cell_type": "markdown",
   "metadata": {
    "colab_type": "text",
    "id": "h-_yC294Jrda"
   },
   "source": [
    "**Performance Evaluation:**"
   ]
  },
  {
   "cell_type": "code",
   "execution_count": 65,
   "metadata": {
    "colab": {
     "base_uri": "https://localhost:8080/",
     "height": 106
    },
    "colab_type": "code",
    "id": "bWbR7xx7Jrda",
    "outputId": "365ae148-9d58-4cdb-d395-7fefb2b7f1e5"
   },
   "outputs": [
    {
     "name": "stdout",
     "output_type": "stream",
     "text": [
      "Linear Regression: Accuracy on training Data: 0.288\n",
      "Linear Regression: Accuracy on test Data: 0.296\n",
      "\n",
      "Linear Regression: The RMSE of the training set is: 1.0129029956234736\n",
      "Linear Regression: The RMSE of the testing set is: 1.0369865239324312\n"
     ]
    }
   ],
   "source": [
    "#computing the accuracy of the model performance\n",
    "acc_train_lr = lr.score(X_train, y_train)\n",
    "acc_test_lr = lr.score(X_test, y_test)\n",
    "\n",
    "#computing root mean squared error (RMSE)\n",
    "rmse_train_lr = np.sqrt(mean_squared_error(y_train, y_train_lr))\n",
    "rmse_test_lr = np.sqrt(mean_squared_error(y_test, y_test_lr))\n",
    "\n",
    "print(\"Linear Regression: Accuracy on training Data: {:.3f}\".format(acc_train_lr))\n",
    "print(\"Linear Regression: Accuracy on test Data: {:.3f}\".format(acc_test_lr))\n",
    "print('\\nLinear Regression: The RMSE of the training set is:', rmse_train_lr)\n",
    "print('Linear Regression: The RMSE of the testing set is:', rmse_test_lr)"
   ]
  },
  {
   "cell_type": "markdown",
   "metadata": {
    "colab_type": "text",
    "id": "gVSA11JTxnmx"
   },
   "source": [
    "**Storing Results:**"
   ]
  },
  {
   "cell_type": "code",
   "execution_count": 66,
   "metadata": {
    "colab": {},
    "colab_type": "code",
    "id": "7mDHSdiBvdZo"
   },
   "outputs": [],
   "source": [
    "#storing the results. The below mentioned order of parameter passing is important.\n",
    "#Caution: Execute only once to avoid duplications.\n",
    "storeResults('Linear Regression', acc_train_lr, acc_test_lr, rmse_train_lr, rmse_test_lr)"
   ]
  },
  {
   "cell_type": "markdown",
   "metadata": {
    "colab_type": "text",
    "id": "zq4Dz3JPci6h"
   },
   "source": [
    "**OBSERVATIONS:** The model preformance is not very good, but we can see that the scores on the training and test sets are very close together. This means we are likely underfitting, not overfitting."
   ]
  },
  {
   "cell_type": "markdown",
   "metadata": {
    "colab_type": "text",
    "id": "-MQRjFKlJrdk"
   },
   "source": [
    "### **6.3. Decision Trees:** *Regression*\n"
   ]
  },
  {
   "cell_type": "code",
   "execution_count": 67,
   "metadata": {
    "colab": {
     "base_uri": "https://localhost:8080/",
     "height": 124
    },
    "colab_type": "code",
    "id": "Idsy3ifptXu3",
    "outputId": "8e594a98-b936-496a-b788-a25f9d975844"
   },
   "outputs": [
    {
     "data": {
      "text/plain": [
       "DecisionTreeRegressor(max_depth=9)"
      ]
     },
     "execution_count": 67,
     "metadata": {},
     "output_type": "execute_result"
    }
   ],
   "source": [
    "# Decision Tree regression model \n",
    "from sklearn.tree import DecisionTreeRegressor\n",
    "\n",
    "# instantiate the model \n",
    "tree = DecisionTreeRegressor(max_depth=9)\n",
    "# fit the model \n",
    "tree.fit(X_train, y_train)"
   ]
  },
  {
   "cell_type": "code",
   "execution_count": 69,
   "metadata": {
    "colab": {},
    "colab_type": "code",
    "id": "R1tnPjILtXvL"
   },
   "outputs": [],
   "source": [
    "#predicting the target value from the model for the samples\n",
    "y_test_tree = tree.predict(X_test)\n",
    "y_train_tree = tree.predict(X_train)"
   ]
  },
  {
   "cell_type": "markdown",
   "metadata": {
    "colab_type": "text",
    "id": "RD-iEu_6tXvU"
   },
   "source": [
    "**Performance Evaluation:**"
   ]
  },
  {
   "cell_type": "code",
   "execution_count": 70,
   "metadata": {
    "colab": {
     "base_uri": "https://localhost:8080/",
     "height": 106
    },
    "colab_type": "code",
    "id": "ivncKP53tXvV",
    "outputId": "1cf1298c-bdab-4790-fe25-3152433384d1"
   },
   "outputs": [
    {
     "name": "stdout",
     "output_type": "stream",
     "text": [
      "Decision Tree: Accuracy on training Data: 0.967\n",
      "Decision Tree: Accuracy on test Data: 0.952\n",
      "\n",
      "Decision Tree: The RMSE of the training set is: 0.21965355867472552\n",
      "Decision Tree: The RMSE of the testing set is: 0.2714321926143292\n"
     ]
    }
   ],
   "source": [
    "#computing the accuracy of the model performance\n",
    "acc_train_tree = tree.score(X_train, y_train)\n",
    "acc_test_tree = tree.score(X_test, y_test)\n",
    "\n",
    "#computing root mean squared error (RMSE)\n",
    "rmse_train_tree = np.sqrt(mean_squared_error(y_train, y_train_tree))\n",
    "rmse_test_tree = np.sqrt(mean_squared_error(y_test, y_test_tree))\n",
    "\n",
    "print(\"Decision Tree: Accuracy on training Data: {:.3f}\".format(acc_train_tree))\n",
    "print(\"Decision Tree: Accuracy on test Data: {:.3f}\".format(acc_test_tree))\n",
    "print('\\nDecision Tree: The RMSE of the training set is:', rmse_train_tree)\n",
    "print('Decision Tree: The RMSE of the testing set is:', rmse_test_tree)"
   ]
  },
  {
   "cell_type": "markdown",
   "metadata": {
    "colab_type": "text",
    "id": "TsOYSDm6xqEY"
   },
   "source": [
    "**Storing Results:**"
   ]
  },
  {
   "cell_type": "code",
   "execution_count": 71,
   "metadata": {
    "colab": {},
    "colab_type": "code",
    "id": "6CqtNbqD3u2R"
   },
   "outputs": [],
   "source": [
    "#storing the results. The below mentioned order of parameter passing is important.\n",
    "#Caution: Execute only once to avoid duplications.\n",
    "storeResults('Decision Tree',acc_train_tree, acc_test_tree, rmse_train_tree, rmse_test_tree)"
   ]
  },
  {
   "cell_type": "code",
   "execution_count": 0,
   "metadata": {
    "colab": {
     "base_uri": "https://localhost:8080/",
     "height": 442
    },
    "colab_type": "code",
    "id": "Lek9bHNfQt6p",
    "outputId": "db36b969-5014-433a-e197-93364d10f7dc"
   },
   "outputs": [
    {
     "data": {
      "image/png": "[encoded data removed]",
      "text/plain": [
       "<Figure size 648x504 with 1 Axes>"
      ]
     },
     "metadata": {
      "needs_background": "light",
      "tags": []
     },
     "output_type": "display_data"
    }
   ],
   "source": [
    "#checking the feature improtance in the model\n",
    "plt.figure(figsize=(9,7))\n",
    "n_features = X_train.shape[1]\n",
    "plt.barh(range(n_features), tree.feature_importances_, align='center')\n",
    "plt.yticks(np.arange(n_features), X_train.columns)\n",
    "plt.xlabel(\"Feature importance\")\n",
    "plt.ylabel(\"Feature\")\n",
    "plt.show()"
   ]
  },
  {
   "cell_type": "markdown",
   "metadata": {
    "colab_type": "text",
    "id": "aaiRdEnLNs12"
   },
   "source": [
    "Evaluating training and testing set performance with different numbers of max_depth from 1 to 30. The plot shows the training and test set accuracy on the y-axis against the setting of max_depth on the x-axis."
   ]
  },
  {
   "cell_type": "code",
   "execution_count": 72,
   "metadata": {
    "colab": {
     "base_uri": "https://localhost:8080/",
     "height": 298
    },
    "colab_type": "code",
    "id": "1k1b0vgXPyYS",
    "outputId": "4a907d07-715c-4e16-b4e6-cad24900d6fd"
   },
   "outputs": [
    {
     "data": {
      "text/plain": [
       "<matplotlib.legend.Legend at 0x14c597f9a0>"
      ]
     },
     "execution_count": 72,
     "metadata": {},
     "output_type": "execute_result"
    },
    {
     "data": {
      "image/png": "[encoded data removed]",
      "text/plain": [
       "<Figure size 432x288 with 1 Axes>"
      ]
     },
     "metadata": {
      "needs_background": "light"
     },
     "output_type": "display_data"
    }
   ],
   "source": [
    "training_accuracy = []\n",
    "test_accuracy = []\n",
    "# try max_depth from 1 to 30\n",
    "depth = range(1, 31)\n",
    "for n in depth:\n",
    "  # fit the model\n",
    "  tree = DecisionTreeRegressor(max_depth=n)\n",
    "  tree.fit(X_train, y_train)\n",
    "  # record training set accuracy\n",
    "  training_accuracy.append(tree.score(X_train, y_train))\n",
    "  # record generalization accuracy\n",
    "  test_accuracy.append(tree.score(X_test, y_test))\n",
    "\n",
    "#plotting the training & testing accuracy for max_depth from 1 to 30\n",
    "plt.plot(depth, training_accuracy, label=\"training accuracy\")\n",
    "plt.plot(depth, test_accuracy, label=\"test accuracy\")\n",
    "plt.ylabel(\"Accuracy\")  \n",
    "plt.xlabel(\"max_depth\")\n",
    "plt.legend()"
   ]
  },
  {
   "cell_type": "markdown",
   "metadata": {
    "colab_type": "text",
    "id": "q2Pf85a4tXvm"
   },
   "source": [
    "**OBSERVATIONS:** The model preformance is gradually increased on incresing the max_depth parameter. But after max_depth = 9, the model overfits. So the model is considered with max_depth = 9 which has an accuracy of 95.2%."
   ]
  },
  {
   "cell_type": "markdown",
   "metadata": {
    "colab_type": "text",
    "id": "2JkVQ5-J5C3x"
   },
   "source": [
    "### **6.4. Random Forest:** *Ensemble of Decision Trees*"
   ]
  },
  {
   "cell_type": "code",
   "execution_count": 73,
   "metadata": {
    "colab": {
     "base_uri": "https://localhost:8080/",
     "height": 141
    },
    "colab_type": "code",
    "id": "xUp8ngaKJrdn",
    "outputId": "4bff8bca-ef8f-497b-ec53-87b4b7202990"
   },
   "outputs": [
    {
     "data": {
      "text/plain": [
       "RandomForestRegressor(max_depth=9)"
      ]
     },
     "execution_count": 73,
     "metadata": {},
     "output_type": "execute_result"
    }
   ],
   "source": [
    "# Random Forest regression model\n",
    "from sklearn.ensemble import RandomForestRegressor\n",
    "\n",
    "# instantiate the model\n",
    "forest = RandomForestRegressor(max_depth=9)\n",
    "\n",
    "# fit the model \n",
    "forest.fit(X_train, y_train)"
   ]
  },
  {
   "cell_type": "code",
   "execution_count": 74,
   "metadata": {
    "colab": {},
    "colab_type": "code",
    "id": "HG2hMUFSJrdq"
   },
   "outputs": [],
   "source": [
    "#predicting the target value from the model for the samples\n",
    "y_test_forest = forest.predict(X_test)\n",
    "y_train_forest = forest.predict(X_train)"
   ]
  },
  {
   "cell_type": "markdown",
   "metadata": {
    "colab_type": "text",
    "id": "xYFpg7Z2wWU0"
   },
   "source": [
    "**Performance Evaluation:**"
   ]
  },
  {
   "cell_type": "code",
   "execution_count": 75,
   "metadata": {
    "colab": {
     "base_uri": "https://localhost:8080/",
     "height": 106
    },
    "colab_type": "code",
    "id": "6fkhNFmKwWU3",
    "outputId": "f5e4a93e-6367-4cdf-d843-097bfbd39a88"
   },
   "outputs": [
    {
     "name": "stdout",
     "output_type": "stream",
     "text": [
      "Random Forest: Accuracy on training Data: 0.987\n",
      "Random Forest: Accuracy on test Data: 0.980\n",
      "\n",
      "Random Forest: The RMSE of the training set is:  0.13559289092595125\n",
      "Random Forest: The RMSE of the testing set is:  0.17263286827332947\n"
     ]
    }
   ],
   "source": [
    "#computing the accuracy of the model performance\n",
    "acc_train_forest = forest.score(X_train, y_train)\n",
    "acc_test_forest = forest.score(X_test, y_test)\n",
    "\n",
    "#computing root mean squared error (RMSE)\n",
    "rmse_train_forest = np.sqrt(mean_squared_error(y_train, y_train_forest))\n",
    "rmse_test_forest = np.sqrt(mean_squared_error(y_test, y_test_forest))\n",
    "\n",
    "print(\"Random Forest: Accuracy on training Data: {:.3f}\".format(acc_train_forest))\n",
    "print(\"Random Forest: Accuracy on test Data: {:.3f}\".format(acc_test_forest))\n",
    "print('\\nRandom Forest: The RMSE of the training set is: ', rmse_train_forest)\n",
    "print('Random Forest: The RMSE of the testing set is: ', rmse_test_forest)"
   ]
  },
  {
   "cell_type": "markdown",
   "metadata": {
    "colab_type": "text",
    "id": "95yjoQaExuCr"
   },
   "source": [
    "**Storing Results:**"
   ]
  },
  {
   "cell_type": "code",
   "execution_count": 76,
   "metadata": {
    "colab": {},
    "colab_type": "code",
    "id": "lvLg6p-swWOG"
   },
   "outputs": [],
   "source": [
    "#storing the results. The below mentioned order of parameter passing is important.\n",
    "#Caution: Execute only once to avoid duplications.\n",
    "storeResults('Random Forest',acc_train_forest, acc_test_forest, rmse_train_forest, rmse_test_forest)"
   ]
  },
  {
   "cell_type": "markdown",
   "metadata": {
    "colab_type": "text",
    "id": "aMr2m2NCN_L_"
   },
   "source": [
    "Evaluating training and testing set performance with different numbers of max_depth from 1 to 30. The plot shows the training and test set accuracy on the y-axis against the setting of max_depth on the x-axis."
   ]
  },
  {
   "cell_type": "code",
   "execution_count": 77,
   "metadata": {
    "colab": {
     "base_uri": "https://localhost:8080/",
     "height": 298
    },
    "colab_type": "code",
    "id": "DTk19lnNfs9w",
    "outputId": "165f7ecd-6057-4bfd-8850-221a070901dd"
   },
   "outputs": [
    {
     "data": {
      "text/plain": [
       "<matplotlib.legend.Legend at 0x14c592b820>"
      ]
     },
     "execution_count": 77,
     "metadata": {},
     "output_type": "execute_result"
    },
    {
     "data": {
      "image/png": "[encoded data removed]",
      "text/plain": [
       "<Figure size 432x288 with 1 Axes>"
      ]
     },
     "metadata": {
      "needs_background": "light"
     },
     "output_type": "display_data"
    }
   ],
   "source": [
    "training_accuracy = []\n",
    "test_accuracy = []\n",
    "# try max_depth from 1 to 30\n",
    "depth = range(1, 31)\n",
    "for n in depth:\n",
    "  # fit the model\n",
    "  forest = RandomForestRegressor(max_depth=n)\n",
    "  forest.fit(X_train, y_train)\n",
    "  # record training set accuracy\n",
    "  training_accuracy.append(forest.score(X_train, y_train))\n",
    "  # record generalization accuracy\n",
    "  test_accuracy.append(forest.score(X_test, y_test))\n",
    "\n",
    "#plotting the training & testing accuracy for max_depth from 1 to 30\n",
    "plt.plot(depth, training_accuracy, label=\"training accuracy\")\n",
    "plt.plot(depth, test_accuracy, label=\"test accuracy\")\n",
    "plt.ylabel(\"Accuracy\")  \n",
    "plt.xlabel(\"max_depth\")\n",
    "plt.legend()"
   ]
  },
  {
   "cell_type": "markdown",
   "metadata": {
    "colab_type": "text",
    "id": "w7cBRwEKzFeP"
   },
   "source": [
    "**OBSERVATIONS:** The random forest gives us an accuracy of 99.4%, better than the linear models or a single decision tree, without tuning any parameters. But this might also be a case of overfitting. So, the prarameter are tuned and the finalized model has an accuracy of 98% which is better than the linear & decision tree models."
   ]
  },
  {
   "cell_type": "markdown",
   "metadata": {
    "colab_type": "text",
    "id": "PspxWf3v7n1C"
   },
   "source": [
    "### **6.5. Gradient Boosted Regression Trees (gradient boosting machines):** *Ensemble of Decision Trees*"
   ]
  },
  {
   "cell_type": "code",
   "execution_count": 78,
   "metadata": {
    "colab": {
     "base_uri": "https://localhost:8080/",
     "height": 177
    },
    "colab_type": "code",
    "id": "MjfAK_4m0tqM",
    "outputId": "bd2b0b74-e56f-4ed8-d848-2b64dcb36133"
   },
   "outputs": [
    {
     "data": {
      "text/plain": [
       "GradientBoostingRegressor(learning_rate=0.5)"
      ]
     },
     "execution_count": 78,
     "metadata": {},
     "output_type": "execute_result"
    }
   ],
   "source": [
    "# Gradient Boosted Regression Trees model\n",
    "from sklearn.ensemble import GradientBoostingRegressor\n",
    "\n",
    "# instantiate the model\n",
    "gbrt = GradientBoostingRegressor(learning_rate=0.5)\n",
    "\n",
    "# fit the model \n",
    "gbrt.fit(X_train, y_train)"
   ]
  },
  {
   "cell_type": "code",
   "execution_count": 79,
   "metadata": {
    "colab": {},
    "colab_type": "code",
    "id": "R0FJPWES0tqb"
   },
   "outputs": [],
   "source": [
    "#predicting the target value from the model for the samples\n",
    "y_test_gbrt = gbrt.predict(X_test)\n",
    "y_train_gbrt = gbrt.predict(X_train)"
   ]
  },
  {
   "cell_type": "markdown",
   "metadata": {
    "colab_type": "text",
    "id": "l46pxS_m0tqf"
   },
   "source": [
    "**Performance Evaluation:**"
   ]
  },
  {
   "cell_type": "code",
   "execution_count": 80,
   "metadata": {
    "colab": {
     "base_uri": "https://localhost:8080/",
     "height": 106
    },
    "colab_type": "code",
    "id": "xTyvQhXH0tqg",
    "outputId": "6941b32c-ef95-4184-9cc5-0f8754cee7f7"
   },
   "outputs": [
    {
     "name": "stdout",
     "output_type": "stream",
     "text": [
      "Gradient Boosted Regression Trees: Accuracy on training Data: 0.988\n",
      "Gradient Boosted Regression Trees: Accuracy on test Data: 0.983\n",
      "\n",
      "Gradient Boosted Regression Trees: The RMSE of the training set is:  0.13022009023453274\n",
      "Gradient Boosted Regression Trees: The RMSE of the testing set is:  0.15898361554125473\n"
     ]
    }
   ],
   "source": [
    "#computing the accuracy of the model performance\n",
    "acc_train_gbrt = gbrt.score(X_train, y_train)\n",
    "acc_test_gbrt = gbrt.score(X_test, y_test)\n",
    "\n",
    "#computing root mean squared error (RMSE)\n",
    "rmse_train_gbrt = np.sqrt(mean_squared_error(y_train, y_train_gbrt))\n",
    "rmse_test_gbrt = np.sqrt(mean_squared_error(y_test, y_test_gbrt))\n",
    "\n",
    "print(\"Gradient Boosted Regression Trees: Accuracy on training Data: {:.3f}\".format(acc_train_gbrt))\n",
    "print(\"Gradient Boosted Regression Trees: Accuracy on test Data: {:.3f}\".format(acc_test_gbrt))\n",
    "print('\\nGradient Boosted Regression Trees: The RMSE of the training set is: ', rmse_train_gbrt)\n",
    "print('Gradient Boosted Regression Trees: The RMSE of the testing set is: ', rmse_test_gbrt)"
   ]
  },
  {
   "cell_type": "markdown",
   "metadata": {
    "colab_type": "text",
    "id": "M8Sjoz4hxwdw"
   },
   "source": [
    "**Storing Results:**"
   ]
  },
  {
   "cell_type": "code",
   "execution_count": 81,
   "metadata": {
    "colab": {},
    "colab_type": "code",
    "id": "ib6p92Usxz_F"
   },
   "outputs": [],
   "source": [
    "storeResults('Gradient Boosted Regression',acc_train_gbrt, acc_test_gbrt, rmse_train_gbrt, rmse_test_gbrt)"
   ]
  },
  {
   "cell_type": "markdown",
   "metadata": {
    "colab_type": "text",
    "id": "LCJGGfodOHc8"
   },
   "source": [
    "Evaluating training and testing set performance with different numbers of learning_rate from 0.1 to 0.9. The plot shows the training and test set accuracy on the y-axis against the setting of learning_rate on the x-axis."
   ]
  },
  {
   "cell_type": "code",
   "execution_count": 82,
   "metadata": {
    "colab": {
     "base_uri": "https://localhost:8080/",
     "height": 300
    },
    "colab_type": "code",
    "id": "g9v7fPalsyes",
    "outputId": "e3954105-40e0-4424-c5c2-164f0b8708bc"
   },
   "outputs": [
    {
     "data": {
      "text/plain": [
       "<matplotlib.legend.Legend at 0x14c5a27160>"
      ]
     },
     "execution_count": 82,
     "metadata": {},
     "output_type": "execute_result"
    },
    {
     "data": {
      "image/png": "[encoded data removed]",
      "text/plain": [
       "<Figure size 432x288 with 1 Axes>"
      ]
     },
     "metadata": {
      "needs_background": "light"
     },
     "output_type": "display_data"
    }
   ],
   "source": [
    "training_accuracy = []\n",
    "test_accuracy = []\n",
    "r = []\n",
    "# try learning_rate from 0.1 to 0.9\n",
    "rate = range(1, 10)\n",
    "for n in rate:\n",
    "  # fit the model\n",
    "  gbrt = GradientBoostingRegressor(learning_rate=n*0.1)\n",
    "  gbrt.fit(X_train, y_train)\n",
    "  r.append(n*0.1)\n",
    "  # record training set accuracy\n",
    "  training_accuracy.append(gbrt.score(X_train, y_train))\n",
    "  # record generalization accuracy\n",
    "  test_accuracy.append(gbrt.score(X_test, y_test))\n",
    "\n",
    "#plotting the training & testing accuracy for learning_rate from 0.1 to 0.9\n",
    "plt.plot(r, training_accuracy, label=\"training accuracy\")\n",
    "plt.plot(r, test_accuracy, label=\"test accuracy\")\n",
    "plt.ylabel(\"Accuracy\")  \n",
    "plt.xlabel(\"learning_rate\")\n",
    "plt.legend()"
   ]
  },
  {
   "cell_type": "markdown",
   "metadata": {
    "colab_type": "text",
    "id": "vh2Hv9Pt0tqm"
   },
   "source": [
    "**OBSERVATIONS:** The model didnt overfit when trained without tuning any parameters. The model accuracy obtained is 94.3%. "
   ]
  },
  {
   "cell_type": "markdown",
   "metadata": {
    "colab_type": "text",
    "id": "DC-KHuGHPvXd"
   },
   "source": [
    "### **6.6. Multilayer Perceptrons (MLPs):** *Deep Learning*"
   ]
  },
  {
   "cell_type": "code",
   "execution_count": 83,
   "metadata": {
    "colab": {
     "base_uri": "https://localhost:8080/",
     "height": 159
    },
    "colab_type": "code",
    "id": "6neV_chFPvXg",
    "outputId": "ce9fe1b5-88c3-481f-836a-62d08bcbf1ab"
   },
   "outputs": [
    {
     "data": {
      "text/plain": [
       "MLPRegressor(hidden_layer_sizes=[100, 100])"
      ]
     },
     "execution_count": 83,
     "metadata": {},
     "output_type": "execute_result"
    }
   ],
   "source": [
    "# Multilayer Perceptrons model\n",
    "from sklearn.neural_network import MLPRegressor\n",
    "\n",
    "# instantiate the model\n",
    "mlp = MLPRegressor(hidden_layer_sizes=([100,100]))\n",
    "\n",
    "# fit the model \n",
    "mlp.fit(X_train, y_train)"
   ]
  },
  {
   "cell_type": "code",
   "execution_count": 84,
   "metadata": {
    "colab": {},
    "colab_type": "code",
    "id": "lIh16U-DPvXw"
   },
   "outputs": [],
   "source": [
    "#predicting the target value from the model for the samples\n",
    "y_test_mlp = mlp.predict(X_test)\n",
    "y_train_mlp = mlp.predict(X_train)"
   ]
  },
  {
   "cell_type": "markdown",
   "metadata": {
    "colab_type": "text",
    "id": "rwDQRNsMPvX7"
   },
   "source": [
    "**Performance Evaluation:**"
   ]
  },
  {
   "cell_type": "code",
   "execution_count": 85,
   "metadata": {
    "colab": {
     "base_uri": "https://localhost:8080/",
     "height": 106
    },
    "colab_type": "code",
    "id": "Gp33bgDAPvX8",
    "outputId": "84750f91-bfda-45c3-a27c-97715c619543"
   },
   "outputs": [
    {
     "name": "stdout",
     "output_type": "stream",
     "text": [
      "Multilayer Perceptron Regression: Accuracy on training Data: 0.913\n",
      "Multilayer Perceptron Regression: Accuracy on test Data: 0.916\n",
      "\n",
      "Multilayer Perceptron Regression: The RMSE of the training set is:  0.35452892571380534\n",
      "Multilayer Perceptron Regression: The RMSE of the testing set is:  0.35785619733399215\n"
     ]
    }
   ],
   "source": [
    "#computing the accuracy of the model performance\n",
    "acc_train_mlp = mlp.score(X_train, y_train)\n",
    "acc_test_mlp = mlp.score(X_test, y_test)\n",
    "\n",
    "#computing root mean squared error (RMSE)\n",
    "rmse_train_mlp = np.sqrt(mean_squared_error(y_train, y_train_mlp))\n",
    "rmse_test_mlp = np.sqrt(mean_squared_error(y_test, y_test_mlp))\n",
    "\n",
    "print(\"Multilayer Perceptron Regression: Accuracy on training Data: {:.3f}\".format(acc_train_mlp))\n",
    "print(\"Multilayer Perceptron Regression: Accuracy on test Data: {:.3f}\".format(acc_test_mlp))\n",
    "print('\\nMultilayer Perceptron Regression: The RMSE of the training set is: ', rmse_train_mlp)\n",
    "print('Multilayer Perceptron Regression: The RMSE of the testing set is: ', rmse_test_mlp)"
   ]
  },
  {
   "cell_type": "markdown",
   "metadata": {
    "colab_type": "text",
    "id": "AW_f1GSnSgQx"
   },
   "source": [
    "**Storing Results:**"
   ]
  },
  {
   "cell_type": "code",
   "execution_count": 86,
   "metadata": {
    "colab": {},
    "colab_type": "code",
    "id": "x-kGk0AeSgQ4"
   },
   "outputs": [],
   "source": [
    "#storing the results. The below mentioned order of parameter passing is important.\n",
    "#Caution: Execute only once to avoid duplications.\n",
    "storeResults('Multilayer Perceptron Regression',acc_train_mlp, acc_test_mlp, rmse_train_mlp, rmse_test_mlp)"
   ]
  },
  {
   "cell_type": "markdown",
   "metadata": {
    "colab_type": "text",
    "id": "kFcdLqStPvYR"
   },
   "source": [
    "**OBSERVATIONS:** The model didnt overfit when trained without tuning any parameters. But, the model accuracy obtained is 89.2%. \n",
    "\n",
    "So, hyperparameter tuning is performed for the model. The tuned parameters are number of hidden layers and the hidden_units of each layer with default values of alpha. The otimized Gradient Boosted model gives us an accuracy of 92.8%, with parameter tuning."
   ]
  },
  {
   "cell_type": "markdown",
   "metadata": {
    "colab_type": "text",
    "id": "OwtQg-D0PoSa"
   },
   "source": [
    "### **6.7. XGBoost Regression:**"
   ]
  },
  {
   "cell_type": "code",
   "execution_count": 88,
   "metadata": {
    "colab": {
     "base_uri": "https://localhost:8080/",
     "height": 159
    },
    "colab_type": "code",
    "id": "a9oA4gSOy0pQ",
    "outputId": "1447fd32-8efc-4cad-cc31-3056eea9aadc"
   },
   "outputs": [
    {
     "data": {
      "text/plain": [
       "XGBRegressor(base_score=0.5, booster='gbtree', colsample_bylevel=1,\n",
       "             colsample_bynode=1, colsample_bytree=1, enable_categorical=False,\n",
       "             gamma=0, gpu_id=-1, importance_type=None,\n",
       "             interaction_constraints='', learning_rate=0.2, max_delta_step=0,\n",
       "             max_depth=4, min_child_weight=1, missing=nan,\n",
       "             monotone_constraints='()', n_estimators=100, n_jobs=4,\n",
       "             num_parallel_tree=1, predictor='auto', random_state=0, reg_alpha=0,\n",
       "             reg_lambda=1, scale_pos_weight=1, subsample=1, tree_method='exact',\n",
       "             validate_parameters=1, verbosity=None)"
      ]
     },
     "execution_count": 88,
     "metadata": {},
     "output_type": "execute_result"
    }
   ],
   "source": [
    "#XGBoost Regression model\n",
    "from xgboost import XGBRegressor\n",
    "\n",
    "# instantiate the model\n",
    "xgb = XGBRegressor(learning_rate=0.2,max_depth=4)\n",
    "#fit the model\n",
    "xgb.fit(X_train, y_train)"
   ]
  },
  {
   "cell_type": "code",
   "execution_count": 89,
   "metadata": {
    "colab": {},
    "colab_type": "code",
    "id": "Fs_oMGV8XEG0"
   },
   "outputs": [],
   "source": [
    "#predicting the target value from the model for the samples\n",
    "y_test_xgb = xgb.predict(X_test)\n",
    "y_train_xgb = xgb.predict(X_train)"
   ]
  },
  {
   "cell_type": "markdown",
   "metadata": {
    "colab_type": "text",
    "id": "Ge4aLXoe1Vkg"
   },
   "source": [
    "**Performance Evaluation:**"
   ]
  },
  {
   "cell_type": "code",
   "execution_count": 90,
   "metadata": {
    "colab": {
     "base_uri": "https://localhost:8080/",
     "height": 106
    },
    "colab_type": "code",
    "id": "BsJE7kgXy0lV",
    "outputId": "698eca21-edd6-4039-f359-b1a0cae7d630"
   },
   "outputs": [
    {
     "name": "stdout",
     "output_type": "stream",
     "text": [
      "XGBoost Regression: Accuracy on training Data: 0.993\n",
      "XGBoost Regression: Accuracy on test Data: 0.988\n",
      "\n",
      "XGBoost Regression: The RMSE of the training set is:  0.09961280009300265\n",
      "XGBoost Regression: The RMSE of the testing set is:  0.13387205285067624\n"
     ]
    }
   ],
   "source": [
    "#computing the accuracy of the model performance\n",
    "acc_train_xgb = xgb.score(X_train, y_train)\n",
    "acc_test_xgb = xgb.score(X_test, y_test)\n",
    "\n",
    "#computing root mean squared error (RMSE)\n",
    "rmse_train_xgb = np.sqrt(mean_squared_error(y_train, y_train_xgb))\n",
    "rmse_test_xgb = np.sqrt(mean_squared_error(y_test, y_test_xgb))\n",
    "\n",
    "print(\"XGBoost Regression: Accuracy on training Data: {:.3f}\".format(acc_train_xgb))\n",
    "print(\"XGBoost Regression: Accuracy on test Data: {:.3f}\".format(acc_test_xgb))\n",
    "print('\\nXGBoost Regression: The RMSE of the training set is: ', rmse_train_xgb)\n",
    "print('XGBoost Regression: The RMSE of the testing set is: ', rmse_test_xgb)"
   ]
  },
  {
   "cell_type": "markdown",
   "metadata": {
    "colab_type": "text",
    "id": "5-4kaNx_Uk-3"
   },
   "source": [
    "**Storing Results:**"
   ]
  },
  {
   "cell_type": "code",
   "execution_count": 91,
   "metadata": {
    "colab": {},
    "colab_type": "code",
    "id": "1kKbUf7rUk-4"
   },
   "outputs": [],
   "source": [
    "storeResults('XGBoost Regression',acc_train_xgb, acc_test_xgb, rmse_train_xgb, rmse_test_xgb)"
   ]
  },
  {
   "cell_type": "markdown",
   "metadata": {
    "colab_type": "text",
    "id": "Z2iN8S91ng02"
   },
   "source": [
    "**OBSERVATIONS:** Upon tuning the hyperparameter, the model performance increased, and the resulting model performance is 98.8%."
   ]
  },
  {
   "cell_type": "markdown",
   "metadata": {
    "colab_type": "text",
    "id": "PbA1EnvMg1fO"
   },
   "source": [
    "### **6.8. Bagging Regression:**"
   ]
  },
  {
   "cell_type": "code",
   "execution_count": 92,
   "metadata": {
    "colab": {
     "base_uri": "https://localhost:8080/",
     "height": 88
    },
    "colab_type": "code",
    "id": "26BxiTsUZkPi",
    "outputId": "d88ad551-c3ea-4633-b741-b364a7df8664"
   },
   "outputs": [
    {
     "data": {
      "text/plain": [
       "BaggingRegressor(n_estimators=1)"
      ]
     },
     "execution_count": 92,
     "metadata": {},
     "output_type": "execute_result"
    }
   ],
   "source": [
    "#Bagging Regression model\n",
    "from sklearn.ensemble import BaggingRegressor\n",
    "\n",
    "#instantiate the model\n",
    "br = BaggingRegressor(n_estimators=1)\n",
    "\n",
    "#fit the model\n",
    "br.fit(X_train, y_train)"
   ]
  },
  {
   "cell_type": "code",
   "execution_count": 93,
   "metadata": {
    "colab": {},
    "colab_type": "code",
    "id": "7YHOZCaSZkN3"
   },
   "outputs": [],
   "source": [
    "#predicting the target value from the model for the samples\n",
    "y_test_br = br.predict(X_test)\n",
    "y_train_br = br.predict(X_train)"
   ]
  },
  {
   "cell_type": "markdown",
   "metadata": {
    "colab_type": "text",
    "id": "Z-HEfxzz1Z46"
   },
   "source": [
    "**Performance Evaluation:**"
   ]
  },
  {
   "cell_type": "code",
   "execution_count": 94,
   "metadata": {
    "colab": {
     "base_uri": "https://localhost:8080/",
     "height": 106
    },
    "colab_type": "code",
    "id": "nK9AEyyxZkJ7",
    "outputId": "10b6174a-38a4-44af-a19b-e764deec9801"
   },
   "outputs": [
    {
     "name": "stdout",
     "output_type": "stream",
     "text": [
      "Bagging Regression: Accuracy on training Data: 0.993\n",
      "Bagging Regression: Accuracy on test Data: 0.982\n",
      "\n",
      "Bagging Regression: The RMSE of the training set is:  0.1016616173299217\n",
      "Bagging Regression: The RMSE of the testing set is:  0.16470744330824405\n"
     ]
    }
   ],
   "source": [
    "#computing the accuracy of the model performance\n",
    "acc_train_br = br.score(X_train, y_train)\n",
    "acc_test_br = br.score(X_test, y_test)\n",
    "\n",
    "#computing root mean squared error (RMSE)\n",
    "rmse_train_br = np.sqrt(mean_squared_error(y_train, y_train_br))\n",
    "rmse_test_br = np.sqrt(mean_squared_error(y_test, y_test_br))\n",
    "\n",
    "print(\"Bagging Regression: Accuracy on training Data: {:.3f}\".format(acc_train_br))\n",
    "print(\"Bagging Regression: Accuracy on test Data: {:.3f}\".format(acc_test_br))\n",
    "print('\\nBagging Regression: The RMSE of the training set is: ', rmse_train_br)\n",
    "print('Bagging Regression: The RMSE of the testing set is: ', rmse_test_br)"
   ]
  },
  {
   "cell_type": "markdown",
   "metadata": {
    "colab_type": "text",
    "id": "BPg6BTByaXaF"
   },
   "source": [
    "**Storing Results:**"
   ]
  },
  {
   "cell_type": "code",
   "execution_count": 95,
   "metadata": {
    "colab": {},
    "colab_type": "code",
    "id": "5nSPH05eZkE1"
   },
   "outputs": [],
   "source": [
    "storeResults('Bagging Regression',acc_train_br, acc_test_br, rmse_train_br, rmse_test_br)"
   ]
  },
  {
   "cell_type": "markdown",
   "metadata": {
    "colab_type": "text",
    "id": "jSc28YhbQaQR"
   },
   "source": [
    "Evaluating training and testing set performance with different numbers of n_estimators from 1 to 50. The plot shows the training and test set accuracy on the y-axis against the setting of n_estimators on the x-axis."
   ]
  },
  {
   "cell_type": "code",
   "execution_count": 96,
   "metadata": {
    "colab": {
     "base_uri": "https://localhost:8080/",
     "height": 300
    },
    "colab_type": "code",
    "id": "CWAn_eVKZkDw",
    "outputId": "5847446d-da72-46e9-90b9-5bae9846521d"
   },
   "outputs": [
    {
     "data": {
      "text/plain": [
       "<matplotlib.legend.Legend at 0x14c7290be0>"
      ]
     },
     "execution_count": 96,
     "metadata": {},
     "output_type": "execute_result"
    },
    {
     "data": {
      "image/png": "[encoded data removed]",
      "text/plain": [
       "<Figure size 432x288 with 1 Axes>"
      ]
     },
     "metadata": {
      "needs_background": "light"
     },
     "output_type": "display_data"
    }
   ],
   "source": [
    "training_accuracy = []\n",
    "test_accuracy = []\n",
    "# try n_estimators from 1 to 50\n",
    "est = range(1, 51)\n",
    "for n in est:\n",
    "  # fit the model\n",
    "  br = BaggingRegressor(n_estimators=n)\n",
    "  br.fit(X_train, y_train)\n",
    "  # record training set accuracy\n",
    "  training_accuracy.append(br.score(X_train, y_train))\n",
    "  # record generalization accuracy\n",
    "  test_accuracy.append(br.score(X_test, y_test))\n",
    "\n",
    "#plotting the training & testing accuracy for n_estimators from 1 to 50\n",
    "plt.plot(est, training_accuracy, label=\"training accuracy\")\n",
    "plt.plot(est, test_accuracy, label=\"test accuracy\")\n",
    "plt.ylabel(\"Accuracy\")  \n",
    "plt.xlabel(\"n_estimators\")\n",
    "plt.legend()"
   ]
  },
  {
   "cell_type": "markdown",
   "metadata": {
    "colab_type": "text",
    "id": "5I0z2kZavhSU"
   },
   "source": [
    "**OBSERVATIONS:** From the above plot, it is clear that the model performs very well on this dataset. Even with tuning of n_estimators parameters, the training accuracy always stayed above 99% & the test data accuracy is always above 97%. This may or may not be the case of overfitting. "
   ]
  },
  {
   "cell_type": "markdown",
   "metadata": {
    "colab_type": "text",
    "id": "smZK5RdnJrdy"
   },
   "source": [
    "### **6.9. Custom Ensemble - SuperLearner:**"
   ]
  },
  {
   "cell_type": "code",
   "execution_count": 97,
   "metadata": {
    "colab": {
     "base_uri": "https://localhost:8080/",
     "height": 70
    },
    "colab_type": "code",
    "id": "pBZDqk4bzcPO",
    "outputId": "d67a61ea-2968-49e1-89e6-a103b2503bed"
   },
   "outputs": [
    {
     "name": "stdout",
     "output_type": "stream",
     "text": [
      "Collecting mlens\n",
      "  Downloading mlens-0.2.3-py2.py3-none-any.whl (227 kB)\n",
      "Requirement already satisfied: scipy>=0.17 in c:\\users\\admin\\anaconda3\\lib\\site-packages (from mlens) (1.5.2)\n",
      "Requirement already satisfied: numpy>=1.11 in c:\\users\\admin\\anaconda3\\lib\\site-packages (from mlens) (1.19.2)\n",
      "Installing collected packages: mlens\n",
      "Successfully installed mlens-0.2.3\n"
     ]
    }
   ],
   "source": [
    "### You will need mlens package\n",
    "!pip install mlens"
   ]
  },
  {
   "cell_type": "code",
   "execution_count": 98,
   "metadata": {
    "colab": {
     "base_uri": "https://localhost:8080/",
     "height": 35
    },
    "colab_type": "code",
    "id": "qXvaoKnJJrdy",
    "outputId": "2e4eb2fe-6c46-40fa-b262-16b75d74ee1f"
   },
   "outputs": [
    {
     "name": "stderr",
     "output_type": "stream",
     "text": [
      "[MLENS] backend: threading\n"
     ]
    }
   ],
   "source": [
    "from mlens.ensemble import SuperLearner\n",
    "from mlens.model_selection import Evaluator\n",
    "from mlens.metrics import make_scorer\n",
    "from mlens.metrics.metrics import rmse\n",
    "\n",
    "from sklearn.metrics import accuracy_score"
   ]
  },
  {
   "cell_type": "code",
   "execution_count": 99,
   "metadata": {
    "colab": {
     "base_uri": "https://localhost:8080/",
     "height": 212
    },
    "colab_type": "code",
    "id": "4rO0S0HaJrd2",
    "outputId": "f9562c00-9ad1-4a69-8152-61f34964807c"
   },
   "outputs": [
    {
     "data": {
      "text/plain": [
       "SuperLearner(array_check=None, backend=None, folds=2,\n",
       "       layers=[Layer(backend='threading', dtype=<class 'numpy.float32'>, n_jobs=-1,\n",
       "   name='layer-1', propagate_features=None, raise_on_exception=True,\n",
       "   random_state=4782, shuffle=False,\n",
       "   stack=[Group(backend='threading', dtype=<class 'numpy.float32'>,\n",
       "   indexer=FoldIndex(X=None, folds=2, raise_on_ex...7429310>)],\n",
       "   n_jobs=-1, name='group-2', raise_on_exception=True, transformers=[])],\n",
       "   verbose=1)],\n",
       "       model_selection=False, n_jobs=None, raise_on_exception=True,\n",
       "       random_state=555, sample_size=20,\n",
       "       scorer=<function rmse at 0x00000014C7429310>, shuffle=False,\n",
       "       verbose=2)"
      ]
     },
     "execution_count": 99,
     "metadata": {},
     "output_type": "execute_result"
    }
   ],
   "source": [
    "ensemble = SuperLearner(scorer=rmse, random_state=555, verbose=2)\n",
    "\n",
    "# Build the first layer\n",
    "ensemble.add(mlp)\n",
    "ensemble.add(knn_grid)\n",
    "ensemble.add_meta(lr)"
   ]
  },
  {
   "cell_type": "code",
   "execution_count": 100,
   "metadata": {
    "colab": {
     "base_uri": "https://localhost:8080/",
     "height": 319
    },
    "colab_type": "code",
    "id": "wAmnQsaeJrd5",
    "outputId": "2bf506a8-5b94-404a-db6f-891b36e67314"
   },
   "outputs": [
    {
     "name": "stdout",
     "output_type": "stream",
     "text": [
      "\n",
      "Fitting 3 layers\n",
      "Processing layer-1             done | 00:00:53\n",
      "Processing layer-2             done | 00:01:43\n",
      "Processing layer-3             done | 00:00:00\n",
      "Fit complete                        | 00:02:37\n"
     ]
    },
    {
     "data": {
      "text/plain": [
       "SuperLearner(array_check=None, backend=None, folds=2,\n",
       "       layers=[Layer(backend='threading', dtype=<class 'numpy.float32'>, n_jobs=-1,\n",
       "   name='layer-1', propagate_features=None, raise_on_exception=True,\n",
       "   random_state=4782, shuffle=False,\n",
       "   stack=[Group(backend='threading', dtype=<class 'numpy.float32'>,\n",
       "   indexer=FoldIndex(X=None, folds=2, raise_on_ex...7429310>)],\n",
       "   n_jobs=-1, name='group-2', raise_on_exception=True, transformers=[])],\n",
       "   verbose=1)],\n",
       "       model_selection=False, n_jobs=None, raise_on_exception=True,\n",
       "       random_state=555, sample_size=20,\n",
       "       scorer=<function rmse at 0x00000014C7429310>, shuffle=False,\n",
       "       verbose=2)"
      ]
     },
     "execution_count": 100,
     "metadata": {},
     "output_type": "execute_result"
    }
   ],
   "source": [
    "ensemble.fit(X_train, y_train)"
   ]
  },
  {
   "cell_type": "code",
   "execution_count": 101,
   "metadata": {
    "colab": {
     "base_uri": "https://localhost:8080/",
     "height": 230
    },
    "colab_type": "code",
    "id": "amIIPBijz0uQ",
    "outputId": "6a0cf010-9884-401f-c25b-a2555abbea4d"
   },
   "outputs": [
    {
     "name": "stdout",
     "output_type": "stream",
     "text": [
      "\n",
      "Predicting 3 layers\n",
      "Processing layer-1             done | 00:00:00\n",
      "Processing layer-2             done | 00:00:00\n",
      "Processing layer-3             done | 00:00:00\n",
      "Predict complete                    | 00:00:01\n",
      "\n",
      "Predicting 3 layers\n",
      "Processing layer-1             done | 00:00:00\n",
      "Processing layer-2             done | 00:00:00\n",
      "Processing layer-3             done | 00:00:00\n",
      "Predict complete                    | 00:00:00\n"
     ]
    }
   ],
   "source": [
    "#Predicting the target of samples from the model\n",
    "y_train_en = ensemble.predict(X_train)\n",
    "y_test_en = ensemble.predict(X_test)"
   ]
  },
  {
   "cell_type": "markdown",
   "metadata": {
    "colab_type": "text",
    "id": "5hYOzfmF0L_b"
   },
   "source": [
    "**Performance Evaluation:**"
   ]
  },
  {
   "cell_type": "code",
   "execution_count": 102,
   "metadata": {
    "colab": {
     "base_uri": "https://localhost:8080/",
     "height": 106
    },
    "colab_type": "code",
    "id": "B1ckXk6j0L_e",
    "outputId": "36c711fb-70c0-4a85-bef8-d46106682a89"
   },
   "outputs": [
    {
     "name": "stdout",
     "output_type": "stream",
     "text": [
      "Custom Ensemble: Accuracy on training Data: 0.902\n",
      "Custom Ensemble: Accuracy on test Data: 0.898\n",
      "\n",
      "Custom Ensemble: The RMSE of the training set is:  0.3759421564219535\n",
      "Custom Ensemble: The RMSE of the testing set is:  0.3949291835141574\n"
     ]
    }
   ],
   "source": [
    "#computing the accuracy of the model performance\n",
    "acc_train_en = sklearn.metrics.r2_score(y_train,y_train_en)\n",
    "acc_test_en = sklearn.metrics.r2_score(y_test,y_test_en)\n",
    "\n",
    "#computing root mean squared error (RMSE)\n",
    "rmse_train_en = rmse(y_train,y_train_en)\n",
    "rmse_test_en = rmse(y_test,y_test_en)\n",
    "\n",
    "print(\"Custom Ensemble: Accuracy on training Data: {:.3f}\".format(acc_train_en))\n",
    "print(\"Custom Ensemble: Accuracy on test Data: {:.3f}\".format(acc_test_en))\n",
    "print('\\nCustom Ensemble: The RMSE of the training set is: ', rmse_train_en)\n",
    "print('Custom Ensemble: The RMSE of the testing set is: ', rmse_test_en)"
   ]
  },
  {
   "cell_type": "markdown",
   "metadata": {
    "colab_type": "text",
    "id": "xCMRaA_6QVLM"
   },
   "source": [
    "**Storing Results:**"
   ]
  },
  {
   "cell_type": "code",
   "execution_count": 103,
   "metadata": {
    "colab": {},
    "colab_type": "code",
    "id": "p1f7h_vaQVLT"
   },
   "outputs": [],
   "source": [
    "storeResults('Ensemble_SuperLearner',acc_train_en, acc_test_en, rmse_train_en, rmse_test_en)"
   ]
  },
  {
   "cell_type": "markdown",
   "metadata": {
    "colab_type": "text",
    "id": "JJv_m94S7DNY"
   },
   "source": [
    "**OBSERVATIONS:**  The above results show that the ensemble model performance is much better than linear regression model. In a way this model is an improved model of the models used in this."
   ]
  },
  {
   "cell_type": "markdown",
   "metadata": {
    "colab_type": "text",
    "id": "LRWt_1lqru5D"
   },
   "source": [
    "## **7. Comparision of Models:**\n",
    "\n",
    "&nbsp;&nbsp;&nbsp;&nbsp;&nbsp;&nbsp;&nbsp;&nbsp;&nbsp;&nbsp;&nbsp;&nbsp;&nbsp;&nbsp;To compare the models performance, a dataframe is created. The columns of this dataframe are the lists created to store the results of the model."
   ]
  },
  {
   "cell_type": "code",
   "execution_count": 104,
   "metadata": {
    "colab": {},
    "colab_type": "code",
    "id": "8ULP9fmGVZBQ"
   },
   "outputs": [],
   "source": [
    "#creating dataframe\n",
    "results = pd.DataFrame({ 'ML Model': ML_Model,    \n",
    "    'Train Accuracy': acc_train,\n",
    "    'Test Accuracy': acc_test,\n",
    "    'Train RMSE': rmse_train,\n",
    "    'Test RMSE': rmse_test})"
   ]
  },
  {
   "cell_type": "code",
   "execution_count": 105,
   "metadata": {
    "colab": {
     "base_uri": "https://localhost:8080/",
     "height": 311
    },
    "colab_type": "code",
    "id": "5maRTZ_gqm1y",
    "outputId": "0da0e6f8-ee3b-4df3-c894-d1375f079e49"
   },
   "outputs": [
    {
     "data": {
      "text/html": [
       "<div>\n",
       "<style scoped>\n",
       "    .dataframe tbody tr th:only-of-type {\n",
       "        vertical-align: middle;\n",
       "    }\n",
       "\n",
       "    .dataframe tbody tr th {\n",
       "        vertical-align: top;\n",
       "    }\n",
       "\n",
       "    .dataframe thead th {\n",
       "        text-align: right;\n",
       "    }\n",
       "</style>\n",
       "<table border=\"1\" class=\"dataframe\">\n",
       "  <thead>\n",
       "    <tr style=\"text-align: right;\">\n",
       "      <th></th>\n",
       "      <th>ML Model</th>\n",
       "      <th>Train Accuracy</th>\n",
       "      <th>Test Accuracy</th>\n",
       "      <th>Train RMSE</th>\n",
       "      <th>Test RMSE</th>\n",
       "    </tr>\n",
       "  </thead>\n",
       "  <tbody>\n",
       "    <tr>\n",
       "      <th>0</th>\n",
       "      <td>k-Nearest Neighbors Regression</td>\n",
       "      <td>1.000</td>\n",
       "      <td>0.812</td>\n",
       "      <td>0.000</td>\n",
       "      <td>0.536</td>\n",
       "    </tr>\n",
       "    <tr>\n",
       "      <th>1</th>\n",
       "      <td>Linear Regression</td>\n",
       "      <td>0.288</td>\n",
       "      <td>0.296</td>\n",
       "      <td>1.013</td>\n",
       "      <td>1.037</td>\n",
       "    </tr>\n",
       "    <tr>\n",
       "      <th>2</th>\n",
       "      <td>Decision Tree</td>\n",
       "      <td>0.967</td>\n",
       "      <td>0.952</td>\n",
       "      <td>0.220</td>\n",
       "      <td>0.271</td>\n",
       "    </tr>\n",
       "    <tr>\n",
       "      <th>3</th>\n",
       "      <td>Random Forest</td>\n",
       "      <td>0.987</td>\n",
       "      <td>0.980</td>\n",
       "      <td>0.136</td>\n",
       "      <td>0.173</td>\n",
       "    </tr>\n",
       "    <tr>\n",
       "      <th>4</th>\n",
       "      <td>Gradient Boosted Regression</td>\n",
       "      <td>0.988</td>\n",
       "      <td>0.983</td>\n",
       "      <td>0.130</td>\n",
       "      <td>0.159</td>\n",
       "    </tr>\n",
       "    <tr>\n",
       "      <th>5</th>\n",
       "      <td>Multilayer Perceptron Regression</td>\n",
       "      <td>0.913</td>\n",
       "      <td>0.916</td>\n",
       "      <td>0.355</td>\n",
       "      <td>0.358</td>\n",
       "    </tr>\n",
       "    <tr>\n",
       "      <th>6</th>\n",
       "      <td>XGBoost Regression</td>\n",
       "      <td>0.993</td>\n",
       "      <td>0.988</td>\n",
       "      <td>0.100</td>\n",
       "      <td>0.134</td>\n",
       "    </tr>\n",
       "    <tr>\n",
       "      <th>7</th>\n",
       "      <td>Bagging Regression</td>\n",
       "      <td>0.993</td>\n",
       "      <td>0.982</td>\n",
       "      <td>0.102</td>\n",
       "      <td>0.165</td>\n",
       "    </tr>\n",
       "    <tr>\n",
       "      <th>8</th>\n",
       "      <td>Ensemble_SuperLearner</td>\n",
       "      <td>0.902</td>\n",
       "      <td>0.898</td>\n",
       "      <td>0.376</td>\n",
       "      <td>0.395</td>\n",
       "    </tr>\n",
       "  </tbody>\n",
       "</table>\n",
       "</div>"
      ],
      "text/plain": [
       "                           ML Model  Train Accuracy  Test Accuracy  \\\n",
       "0    k-Nearest Neighbors Regression           1.000          0.812   \n",
       "1                 Linear Regression           0.288          0.296   \n",
       "2                     Decision Tree           0.967          0.952   \n",
       "3                     Random Forest           0.987          0.980   \n",
       "4       Gradient Boosted Regression           0.988          0.983   \n",
       "5  Multilayer Perceptron Regression           0.913          0.916   \n",
       "6                XGBoost Regression           0.993          0.988   \n",
       "7                Bagging Regression           0.993          0.982   \n",
       "8             Ensemble_SuperLearner           0.902          0.898   \n",
       "\n",
       "   Train RMSE  Test RMSE  \n",
       "0       0.000      0.536  \n",
       "1       1.013      1.037  \n",
       "2       0.220      0.271  \n",
       "3       0.136      0.173  \n",
       "4       0.130      0.159  \n",
       "5       0.355      0.358  \n",
       "6       0.100      0.134  \n",
       "7       0.102      0.165  \n",
       "8       0.376      0.395  "
      ]
     },
     "execution_count": 105,
     "metadata": {},
     "output_type": "execute_result"
    }
   ],
   "source": [
    "results"
   ]
  },
  {
   "cell_type": "code",
   "execution_count": 106,
   "metadata": {
    "colab": {
     "base_uri": "https://localhost:8080/",
     "height": 311
    },
    "colab_type": "code",
    "id": "LY5ZszLkXzbV",
    "outputId": "e6069412-cfd1-4923-8c4a-8732d08fc272"
   },
   "outputs": [
    {
     "data": {
      "text/html": [
       "<div>\n",
       "<style scoped>\n",
       "    .dataframe tbody tr th:only-of-type {\n",
       "        vertical-align: middle;\n",
       "    }\n",
       "\n",
       "    .dataframe tbody tr th {\n",
       "        vertical-align: top;\n",
       "    }\n",
       "\n",
       "    .dataframe thead th {\n",
       "        text-align: right;\n",
       "    }\n",
       "</style>\n",
       "<table border=\"1\" class=\"dataframe\">\n",
       "  <thead>\n",
       "    <tr style=\"text-align: right;\">\n",
       "      <th></th>\n",
       "      <th>ML Model</th>\n",
       "      <th>Train Accuracy</th>\n",
       "      <th>Test Accuracy</th>\n",
       "      <th>Train RMSE</th>\n",
       "      <th>Test RMSE</th>\n",
       "    </tr>\n",
       "  </thead>\n",
       "  <tbody>\n",
       "    <tr>\n",
       "      <th>6</th>\n",
       "      <td>XGBoost Regression</td>\n",
       "      <td>0.993</td>\n",
       "      <td>0.988</td>\n",
       "      <td>0.100</td>\n",
       "      <td>0.134</td>\n",
       "    </tr>\n",
       "    <tr>\n",
       "      <th>4</th>\n",
       "      <td>Gradient Boosted Regression</td>\n",
       "      <td>0.988</td>\n",
       "      <td>0.983</td>\n",
       "      <td>0.130</td>\n",
       "      <td>0.159</td>\n",
       "    </tr>\n",
       "    <tr>\n",
       "      <th>7</th>\n",
       "      <td>Bagging Regression</td>\n",
       "      <td>0.993</td>\n",
       "      <td>0.982</td>\n",
       "      <td>0.102</td>\n",
       "      <td>0.165</td>\n",
       "    </tr>\n",
       "    <tr>\n",
       "      <th>3</th>\n",
       "      <td>Random Forest</td>\n",
       "      <td>0.987</td>\n",
       "      <td>0.980</td>\n",
       "      <td>0.136</td>\n",
       "      <td>0.173</td>\n",
       "    </tr>\n",
       "    <tr>\n",
       "      <th>2</th>\n",
       "      <td>Decision Tree</td>\n",
       "      <td>0.967</td>\n",
       "      <td>0.952</td>\n",
       "      <td>0.220</td>\n",
       "      <td>0.271</td>\n",
       "    </tr>\n",
       "    <tr>\n",
       "      <th>5</th>\n",
       "      <td>Multilayer Perceptron Regression</td>\n",
       "      <td>0.913</td>\n",
       "      <td>0.916</td>\n",
       "      <td>0.355</td>\n",
       "      <td>0.358</td>\n",
       "    </tr>\n",
       "    <tr>\n",
       "      <th>8</th>\n",
       "      <td>Ensemble_SuperLearner</td>\n",
       "      <td>0.902</td>\n",
       "      <td>0.898</td>\n",
       "      <td>0.376</td>\n",
       "      <td>0.395</td>\n",
       "    </tr>\n",
       "    <tr>\n",
       "      <th>0</th>\n",
       "      <td>k-Nearest Neighbors Regression</td>\n",
       "      <td>1.000</td>\n",
       "      <td>0.812</td>\n",
       "      <td>0.000</td>\n",
       "      <td>0.536</td>\n",
       "    </tr>\n",
       "    <tr>\n",
       "      <th>1</th>\n",
       "      <td>Linear Regression</td>\n",
       "      <td>0.288</td>\n",
       "      <td>0.296</td>\n",
       "      <td>1.013</td>\n",
       "      <td>1.037</td>\n",
       "    </tr>\n",
       "  </tbody>\n",
       "</table>\n",
       "</div>"
      ],
      "text/plain": [
       "                           ML Model  Train Accuracy  Test Accuracy  \\\n",
       "6                XGBoost Regression           0.993          0.988   \n",
       "4       Gradient Boosted Regression           0.988          0.983   \n",
       "7                Bagging Regression           0.993          0.982   \n",
       "3                     Random Forest           0.987          0.980   \n",
       "2                     Decision Tree           0.967          0.952   \n",
       "5  Multilayer Perceptron Regression           0.913          0.916   \n",
       "8             Ensemble_SuperLearner           0.902          0.898   \n",
       "0    k-Nearest Neighbors Regression           1.000          0.812   \n",
       "1                 Linear Regression           0.288          0.296   \n",
       "\n",
       "   Train RMSE  Test RMSE  \n",
       "6       0.100      0.134  \n",
       "4       0.130      0.159  \n",
       "7       0.102      0.165  \n",
       "3       0.136      0.173  \n",
       "2       0.220      0.271  \n",
       "5       0.355      0.358  \n",
       "8       0.376      0.395  \n",
       "0       0.000      0.536  \n",
       "1       1.013      1.037  "
      ]
     },
     "execution_count": 106,
     "metadata": {},
     "output_type": "execute_result"
    }
   ],
   "source": [
    "#Sorting the datafram on accuracy\n",
    "results.sort_values(by=['Test Accuracy', 'Train Accuracy'], ascending=False)"
   ]
  },
  {
   "cell_type": "markdown",
   "metadata": {
    "colab_type": "text",
    "id": "YKiJahz0Ur1J"
   },
   "source": [
    "**OBSERVATIONS:** Among all the trained modesl, XGBoost performance is better. It is understandable because this model is very good in execution Speed & model performance."
   ]
  },
  {
   "cell_type": "markdown",
   "metadata": {
    "colab_type": "text",
    "id": "ueFbYumEUSgW"
   },
   "source": [
    "## **8. Statistical Tests:**"
   ]
  },
  {
   "cell_type": "code",
   "execution_count": 107,
   "metadata": {
    "colab": {},
    "colab_type": "code",
    "id": "5ykkcV1mlVA4"
   },
   "outputs": [],
   "source": [
    "#improting required libraries\n",
    "from scipy import stats"
   ]
  },
  {
   "cell_type": "markdown",
   "metadata": {
    "colab_type": "text",
    "id": "suzEOXz9fvsC"
   },
   "source": [
    "### **8.1. Test 1: To check the difference in suicide rates between male and female**\n",
    "Using independent sample t-test to check the difference in suicide rates between male and female. The hypothesis statements for this test are: \n",
    "\n",
    "**H0:** There is no difference in the suicide rates among male and female (Null).<br>\n",
    "**H1:** There is difference in the suicide rates among male and female (Alternate).\n"
   ]
  },
  {
   "cell_type": "code",
   "execution_count": 108,
   "metadata": {
    "colab": {
     "base_uri": "https://localhost:8080/",
     "height": 230
    },
    "colab_type": "code",
    "id": "hp7YwoGLdvjL",
    "outputId": "e9b5aae9-77ba-466b-f6e4-1a5ed7d73eb6"
   },
   "outputs": [
    {
     "data": {
      "text/plain": [
       "0         6.71\n",
       "1         5.19\n",
       "3         4.59\n",
       "4         3.28\n",
       "8         0.73\n",
       "         ...  \n",
       "27809    11.61\n",
       "27811    11.33\n",
       "27812    11.10\n",
       "27813     7.56\n",
       "27817     2.17\n",
       "Name: suicide_rate, Length: 13910, dtype: float64"
      ]
     },
     "execution_count": 108,
     "metadata": {},
     "output_type": "execute_result"
    }
   ],
   "source": [
    "#collecting male suicide rate data\n",
    "male = stat_data['suicide_rate'][stat_data['gender'] == 1]\n",
    "male"
   ]
  },
  {
   "cell_type": "code",
   "execution_count": 109,
   "metadata": {
    "colab": {
     "base_uri": "https://localhost:8080/",
     "height": 230
    },
    "colab_type": "code",
    "id": "AXVRAePOef_Y",
    "outputId": "84f4f5e8-0a30-4698-e244-a6802b594294"
   },
   "outputs": [
    {
     "data": {
      "text/plain": [
       "2        4.83\n",
       "5        2.81\n",
       "6        2.15\n",
       "7        1.56\n",
       "9        0.00\n",
       "         ... \n",
       "27814    5.92\n",
       "27815    2.96\n",
       "27816    2.58\n",
       "27818    1.67\n",
       "27819    1.46\n",
       "Name: suicide_rate, Length: 13910, dtype: float64"
      ]
     },
     "execution_count": 109,
     "metadata": {},
     "output_type": "execute_result"
    }
   ],
   "source": [
    "#collecting female suicide rate data\n",
    "female = stat_data['suicide_rate'][stat_data['gender'] == 0]\n",
    "female"
   ]
  },
  {
   "cell_type": "code",
   "execution_count": 110,
   "metadata": {
    "colab": {
     "base_uri": "https://localhost:8080/",
     "height": 35
    },
    "colab_type": "code",
    "id": "RbvJ1LdWfWZ8",
    "outputId": "a0f21feb-db49-4e7a-c9c1-edc35be201cb"
   },
   "outputs": [
    {
     "name": "stdout",
     "output_type": "stream",
     "text": [
      "Reject null hypothesis\n"
     ]
    }
   ],
   "source": [
    "#calculating p value\n",
    "ttest,pval = stats.ttest_rel(male, female)\n",
    "\n",
    "if pval<0.05:\n",
    "    print(\"Reject null hypothesis\")\n",
    "else:\n",
    "    print(\"Accept null hypothesis\")"
   ]
  },
  {
   "cell_type": "markdown",
   "metadata": {
    "colab_type": "text",
    "id": "xdjfBLjYTPU2"
   },
   "source": [
    "**Test Conclusion:** By performing T-test, the result obtained is to reject the null hypothesis. This basically means that there is different in suicide rates of male & female."
   ]
  },
  {
   "cell_type": "markdown",
   "metadata": {
    "colab_type": "text",
    "id": "K6XVke9WgQQ7"
   },
   "source": [
    "### **8.2. Test 2: To find out the dependence of suicide rate on the age.**\n",
    "Finding out whether there is a dependence of suicide rate on the age using the Chi- Square test. The hypothesis statements for this test are: \n",
    "\n",
    "**H0:** Suicide rate and age are independent (Null).<br>\n",
    "**H1:** Suicide rate and age are dependent (Alternate). "
   ]
  },
  {
   "cell_type": "code",
   "execution_count": 111,
   "metadata": {
    "colab": {},
    "colab_type": "code",
    "id": "0xO2wbYn9a0L"
   },
   "outputs": [],
   "source": [
    "#Creating Contingency Table\n",
    "contingency_table = pd.crosstab(stat_data.suicide_rate, stat_data.age_group)"
   ]
  },
  {
   "cell_type": "code",
   "execution_count": 112,
   "metadata": {
    "colab": {},
    "colab_type": "code",
    "id": "dVqqHqtG_Krs"
   },
   "outputs": [],
   "source": [
    "#Significance Level 5%\n",
    "alpha=0.05"
   ]
  },
  {
   "cell_type": "code",
   "execution_count": 113,
   "metadata": {
    "colab": {},
    "colab_type": "code",
    "id": "kymhWVst9rIU"
   },
   "outputs": [],
   "source": [
    "chistat, p, dof, expected = stats.chi2_contingency(contingency_table )"
   ]
  },
  {
   "cell_type": "code",
   "execution_count": 114,
   "metadata": {
    "colab": {
     "base_uri": "https://localhost:8080/",
     "height": 35
    },
    "colab_type": "code",
    "id": "4Q5yJrJB_vUk",
    "outputId": "959105ca-aff9-4614-fc44-83dbfce3acf2"
   },
   "outputs": [
    {
     "name": "stdout",
     "output_type": "stream",
     "text": [
      "critical_value: 26864.700169422224\n"
     ]
    }
   ],
   "source": [
    "#critical_value\n",
    "critical_value=stats.chi2.ppf(q=1-alpha,df=dof)\n",
    "print('critical_value:',critical_value)"
   ]
  },
  {
   "cell_type": "code",
   "execution_count": 115,
   "metadata": {
    "colab": {
     "base_uri": "https://localhost:8080/",
     "height": 106
    },
    "colab_type": "code",
    "id": "JyXUEbDe_ghn",
    "outputId": "7812b41e-8fe1-40de-803f-1e3cff9c5ecf"
   },
   "outputs": [
    {
     "name": "stdout",
     "output_type": "stream",
     "text": [
      "Significance level:  0.05\n",
      "Degree of Freedom:  26485\n",
      "chi-square statistic: 39571.48433519147\n",
      "critical_value: 26864.700169422224\n",
      "p-value: 0.0\n"
     ]
    }
   ],
   "source": [
    "print('Significance level: ',alpha)\n",
    "print('Degree of Freedom: ',dof)\n",
    "print('chi-square statistic:',chistat)\n",
    "print('critical_value:',critical_value)\n",
    "print('p-value:',p) \n",
    "#Here, pvalue = 0.0 and a low pvalue suggests that your sample provides enough evidence that you can reject  H0  for the entire population."
   ]
  },
  {
   "cell_type": "code",
   "execution_count": 116,
   "metadata": {
    "colab": {
     "base_uri": "https://localhost:8080/",
     "height": 52
    },
    "colab_type": "code",
    "id": "YF-fkzeTAKCU",
    "outputId": "98f20ec3-93fa-4737-fb03-758ba230f3ac"
   },
   "outputs": [
    {
     "name": "stdout",
     "output_type": "stream",
     "text": [
      "Reject H0,There is a dependency between Age group & Suicide rate.\n",
      "Reject H0,There is a dependency between Age group & Suicide rate.\n"
     ]
    }
   ],
   "source": [
    " #compare chi_square_statistic with critical_value and p-value \n",
    "if chistat>=critical_value:\n",
    "    print(\"Reject H0,There is a dependency between Age group & Suicide rate.\")\n",
    "else:\n",
    "    print(\"Retain H0,There is no relationship between Age group & Suicide rate.\")\n",
    "    \n",
    "if p<=alpha:\n",
    "    print(\"Reject H0,There is a dependency between Age group & Suicide rate.\")\n",
    "else:\n",
    "    print(\"Retain H0,There is no relationship between Age group & Suicide rate.\")"
   ]
  },
  {
   "cell_type": "markdown",
   "metadata": {
    "colab_type": "text",
    "id": "_hYKiQ2sToc7"
   },
   "source": [
    "**Test Conclusion:** By performing Chi- Square test, the result obtained is to reject the null hypothesis. This basically means that there is dependency between Age group & Suicide rate."
   ]
  },
  {
   "cell_type": "markdown",
   "metadata": {
    "colab_type": "text",
    "id": "mzg0YuqTLJoc"
   },
   "source": [
    "## **9. Conclusion:**\n",
    "\n",
    "&nbsp;&nbsp;&nbsp;&nbsp;&nbsp;&nbsp;&nbsp;&nbsp;&nbsp;&nbsp;&nbsp;&nbsp;&nbsp;&nbsp;In this project I have analyzed numerous factors after gathering dataset from Kaggle and implemented various machine learning algorithms to observe, compare and find corresponding circumstances leading to suicide. The resultant models have then been used to do suicide case estimation on the testing datset.The final take away form this project is the working of different machine learning models on a dataset and understanding their parameters. The final conclusion on the suicide dataset are that the irrespective of age group and generation, male population are more prone to commit suicide than female. "
   ]
  }
 ],
 "metadata": {
  "colab": {
   "collapsed_sections": [],
   "name": "Suicide Rate Prediction.ipynb",
   "provenance": [],
   "toc_visible": true
  },
  "kernelspec": {
   "display_name": "Python 3",
   "language": "python",
   "name": "python3"
  },
  "language_info": {
   "codemirror_mode": {
    "name": "ipython",
    "version": 3
   },
   "file_extension": ".py",
   "mimetype": "text/x-python",
   "name": "python",
   "nbconvert_exporter": "python",
   "pygments_lexer": "ipython3",
   "version": "3.8.5"
  }
 },
 "nbformat": 4,
 "nbformat_minor": 1
}
